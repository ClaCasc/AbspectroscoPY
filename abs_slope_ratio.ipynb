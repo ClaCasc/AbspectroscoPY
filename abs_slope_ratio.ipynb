{
 "cells": [
  {
   "cell_type": "markdown",
   "metadata": {},
   "source": [
    "### User input"
   ]
  },
  {
   "cell_type": "code",
   "execution_count": null,
   "metadata": {},
   "outputs": [],
   "source": [
    "decimal = '.'                                                                   # decimal of the input file\n",
    "sep = ';'                                                                       # separator of the input file\n",
    "input_dir = 'C:/Users/cace0002/AbspectroscoPY/results/df_mediancor_sw_30.0.csv' # input directory\n",
    "output = 'C:/Users/cace0002/AbspectroscoPY/results/'                            # output directory\n",
    "dateheadername = 'Timestamp'                                                    # header of the date  \n",
    "header = 0                                                                      # header row number\n",
    "dateparsingformat = '%Y-%m-%d %H:%M:%S'                                         # format of the date \n",
    "sample_name = 'sw'                                                              # name of the sample\n",
    "\n",
    "S_f = 1                                                                         # sampling frequency\n",
    "\n",
    "#To plot the time series of slope ratio, the user can modify:\n",
    "col_sel = 'SR'                                                                  # column to plot\n",
    "timestart = '2018-11-13 05:02:00'                                               # starting time and ending time\n",
    "timeend =   '2018-12-04 08:44:00'                                \n",
    "fig_format = '.tiff'                                                            # format of the exported figure\n",
    "dpi = 300                                                                       # resolution of the exported figure"
   ]
  },
  {
   "cell_type": "markdown",
   "metadata": {},
   "source": [
    "### Start environment and import data"
   ]
  },
  {
   "cell_type": "code",
   "execution_count": null,
   "metadata": {},
   "outputs": [],
   "source": [
    "import abspectroscopy_functions as abspy # Functions from the AbspectroscoPY toolbox\n",
    "import pandas as pd\n",
    "import numpy as np\n",
    "import matplotlib.pyplot as plt\n",
    "import matplotlib.dates as mdates\n",
    "from matplotlib.ticker import (MultipleLocator, FormatStrFormatter, AutoMinorLocator)\n",
    "from datetime import datetime\n",
    "from scipy import interpolate\n",
    "from sklearn.linear_model import LinearRegression\n",
    "\n",
    "df = pd.read_csv(input_dir, sep = sep, header = header, index_col = 0) \n",
    "df.index = pd.to_datetime(df.index)      # make sure time column (here index) is using time format\n",
    "df"
   ]
  },
  {
   "cell_type": "markdown",
   "metadata": {},
   "source": [
    "### abs_slope_ratio"
   ]
  },
  {
   "cell_type": "code",
   "execution_count": null,
   "metadata": {},
   "outputs": [],
   "source": [
    "def abs_slope_ratio(df_in,\n",
    "                    sampling_frequency):\n",
    "    '''\n",
    "    function to get a dataframe with the slope values at shorter wavelengths (S275-295), at longer wavelengths (S350-400) and their ratio  (slope ratio)\n",
    "    :argument df_in: dataframe in input\n",
    "    :argument sampling_frequency: sampling frequency when computing the slope ratio\n",
    "    :return: dataframe with S275-295, S350-400 and slope ratio (SR) at the sampling frequency specified\n",
    "    '''\n",
    "    df_in = df_in.reset_index()                                  # restore the original index as row\n",
    "    df_in = df_in.T                                              # transpose the data frame  \n",
    "    df_in = df_in.reset_index()                                  # restore the original index as row\n",
    "    headers = df_in.iloc[0]                                      # rename the dates as headers                                     \n",
    "    df_in = pd.DataFrame(df_in.values[1:], columns=headers)      # convert the first row to header\n",
    "    df_in = df_in.rename(columns={\"Timestamp\": \"wl\"})            # rename the first column as \"wl\" = wavelength vector\n",
    "    df_in['wl'] = df_in['wl'].replace({'nm':''},regex=True)      # remove \"nm\" from the wavelength vector\n",
    "    wl = df_in['wl'].apply(pd.to_numeric)                        # convert the wavelength vector to numeric  \n",
    "\n",
    "    iteration = len(df_in.columns)                               # number of loop iterations\n",
    "    print('number of iterations',iteration)\n",
    "    empty_matrix = np.zeros((iteration, 3))                      # create an empty matrix to fill in with the parameters s275_295, s350_400,SR for each datetime\n",
    "\n",
    "    wl_275_295 = np.linspace(275,295,25)                         # create an array of 25 evenly spaced numbers over the specified interval\n",
    "    wl_350_400 = np.linspace(350,400,25) \n",
    "    wl_275_295_resh = np.array(wl_275_295).reshape((-1, 1))      # reshape as column\n",
    "    wl_350_400_resh = np.array(wl_350_400).reshape((-1, 1))\n",
    "\n",
    "    counter = 0                                                  # use a counter in the loop to keep track of the iteration number\n",
    "    for i in range(0,iteration,sampling_frequency): \n",
    "        counter = i                                           \n",
    "        print(counter)                                 \n",
    "        absorbance = df_in.iloc[:,i]                             # subset the absorbance values   \n",
    "        sf = interpolate.interp1d(wl, absorbance,kind='cubic')# spline interpolation of third order to get as many absorbance values as the array of 25 wavelengths\n",
    "        absorbance_275_295 = sf(wl_275_295)\n",
    "        absorbance_350_400 = sf(wl_350_400)\n",
    "        absorbance_275_295_log_resh = np.log(absorbance_275_295).reshape((-1, 1))\n",
    "        absorbance_350_400_log_resh = np.log(absorbance_350_400).reshape((-1, 1))\n",
    "        lm_275_295 = LinearRegression().fit(wl_275_295_resh, absorbance_275_295_log_resh) # perform a linear regression and calculate the slopes in the two wavelength ranges\n",
    "        slope_275_295 = lm_275_295.coef_[0]\n",
    "        lm_350_400 = LinearRegression().fit(wl_350_400_resh, absorbance_350_400_log_resh)\n",
    "        slope_350_400 = lm_350_400.coef_[0]\n",
    "        print('slope 275-295:',slope_275_295)\n",
    "        print('slope 350-400:',slope_350_400)\n",
    "        sr = slope_275_295/slope_350_400                         # compute the slope ratio \n",
    "        print('SR:',sr) \n",
    "        empty_matrix[i, 0] = slope_275_295                       # fill in the empty matrix with the calculated parameters\n",
    "        empty_matrix[i, 1] = slope_350_400  \n",
    "        empty_matrix[i, 2] = sr    \n",
    "\n",
    "    sr_data = pd.DataFrame(empty_matrix, index=headers.iloc[0:], columns=['s275_295','s350_400','SR']) # create a dataframe with the calculated parameters\n",
    "    #print(sr_data)\n",
    "    df_out = sr_data[sr_data['SR'] != 0][1:]                     # keep only the rows in which the slope ratio is different from zero \n",
    "    df_out.index = pd.to_datetime(df_out.index)\n",
    "    print(df_out)    \n",
    "    return(df_out)"
   ]
  },
  {
   "cell_type": "code",
   "execution_count": null,
   "metadata": {},
   "outputs": [],
   "source": [
    "df_sr = abs_slope_ratio(df, S_f)\n",
    "df_sr[1:].to_csv(output + 'df_sr_' + str(sample_name) + '_' + str(S_f) +'.csv', index = True, sep = ';') # export the dataframe"
   ]
  },
  {
   "cell_type": "code",
   "execution_count": null,
   "metadata": {},
   "outputs": [],
   "source": [
    "title = 'slope_ratio_'\n",
    "abspy.makeaplot(df_sr, output, 'SR', timestart, timeend, sample_name, title, ylabel = 'Slope ratio [dimensionless]')"
   ]
  }
 ],
 "metadata": {
  "kernelspec": {
   "display_name": "Python 3",
   "language": "python",
   "name": "python3"
  },
  "language_info": {
   "codemirror_mode": {
    "name": "ipython",
    "version": 3
   },
   "file_extension": ".py",
   "mimetype": "text/x-python",
   "name": "python",
   "nbconvert_exporter": "python",
   "pygments_lexer": "ipython3",
   "version": "3.7.4"
  }
 },
 "nbformat": 4,
 "nbformat_minor": 4
}
