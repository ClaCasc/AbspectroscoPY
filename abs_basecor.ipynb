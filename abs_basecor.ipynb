{
 "cells": [
  {
   "cell_type": "markdown",
   "metadata": {},
   "source": [
    "### User input"
   ]
  },
  {
   "cell_type": "code",
   "execution_count": null,
   "metadata": {},
   "outputs": [],
   "source": [
    "decimal = '.'                                                            # decimal of the input file\n",
    "sep = ';'                                                                # separator of the input file\n",
    "input_dir = 'C:/Users/cace0002/AbspectroscoPY/results/df_pathcor_sw.csv' # input directory\n",
    "output = 'C:/Users/cace0002/AbspectroscoPY/results/'                     # output directory\n",
    "dateheadername = 'Timestamp'                                             # header of the date  \n",
    "header = 0                                                               # header row number\n",
    "dateparsingformat = '%Y-%m-%d %H:%M:%S'                                  # format of the date \n",
    "sample_name = 'sw'                                                       # name of the sample\n",
    "\n",
    "nperiods = 10                                                            # number of dates to display in the absorbance spectra plot\n",
    "fig_format = '.tiff'                                                   # format of the exported figure\n",
    "dpi = 300                                                              # resolution of the exported figure\n",
    "\n",
    "startwv = '700 nm'                                                       # starting wavelength for the baseline correction"
   ]
  },
  {
   "cell_type": "markdown",
   "metadata": {},
   "source": [
    "### Start environment and import data"
   ]
  },
  {
   "cell_type": "code",
   "execution_count": null,
   "metadata": {},
   "outputs": [],
   "source": [
    "import abspectroscopy_functions as abspy # Functions from the AbspectroscoPY toolbox\n",
    "import pandas as pd\n",
    "import numpy as np\n",
    "import matplotlib.pyplot as plt\n",
    "import matplotlib.dates as mdates\n",
    "from matplotlib.ticker import (MultipleLocator, FormatStrFormatter, AutoMinorLocator)\n",
    "from datetime import datetime\n",
    "from datetime import timedelta\n",
    "\n",
    "df = pd.read_csv(input_dir, sep = sep, header = header, index_col = 0) \n",
    "df.index = pd.to_datetime(df.index)               # make sure time column (here index) is using time format\n",
    "df"
   ]
  },
  {
   "cell_type": "markdown",
   "metadata": {},
   "source": [
    "### Set a wavelength range to use for the baseline correction"
   ]
  },
  {
   "cell_type": "code",
   "execution_count": null,
   "metadata": {},
   "outputs": [],
   "source": [
    "### Plot the absorbance spectra for different dates covering the temporal variability of the data and choose a wavelength range to correct for the baseline drift. "
   ]
  },
  {
   "cell_type": "code",
   "execution_count": null,
   "metadata": {},
   "outputs": [],
   "source": [
    "abspy.makeabsplot(df, output, dateparsingformat, nperiods, sample_name)"
   ]
  },
  {
   "cell_type": "markdown",
   "metadata": {},
   "source": [
    "### abs_basecor"
   ]
  },
  {
   "cell_type": "code",
   "execution_count": null,
   "metadata": {},
   "outputs": [],
   "source": [
    "### Compute the median of the attenuation data for the selected wavelength region and subtract it from the absorbance data to account for the instrumental baseline drift."
   ]
  },
  {
   "cell_type": "code",
   "execution_count": null,
   "metadata": {},
   "outputs": [],
   "source": [
    "def abs_basecor(df_in, \n",
    "                startwv):\n",
    "    '''\n",
    "    function to account for the instrumental baseline drift\n",
    "    :argument df_in: dataframe in input\n",
    "    :argument startwv: starting wavelength of the wavelength region to use for the baseline  correction\n",
    "    :return: the baseline corrected attenuation dataframe    \n",
    "    '''      \n",
    "    df_in.columns = [str(col) + 'nm' for col in df_in.columns]\n",
    "    df_out = df_in.copy()\n",
    "    header = list(df_out)                            # list of wavelengths; 700-735.5 nm is the wavelength region chosen in this example\n",
    "    start = df_out.columns.get_loc(startwv)          # get the starting and ending column position of the two wavelengths \n",
    "    end = len(header)                                \n",
    "    med = df_out.iloc[:,start:end].median(axis=1)    # compute the median of the attenuation values for the columns between start and end \n",
    "    df_out =df_out.iloc[:,0:start]                   # obtain a subdataset which excludes columns from 700 nm onwards\n",
    "    df_out =df_out.subtract(med, axis = 0)           # perform the baseline correction    \n",
    "    return(df_out)"
   ]
  },
  {
   "cell_type": "code",
   "execution_count": null,
   "metadata": {},
   "outputs": [],
   "source": [
    "df_bc = abs_basecor(df, startwv)\n",
    "df_bc.to_csv(output + 'df_baselinecor_' + str(sample_name) + '.csv', sep = sep, decimal = decimal, index=True) # export the dataframe\n",
    "df_bc"
   ]
  }
 ],
 "metadata": {
  "kernelspec": {
   "display_name": "Python 3",
   "language": "python",
   "name": "python3"
  },
  "language_info": {
   "codemirror_mode": {
    "name": "ipython",
    "version": 3
   },
   "file_extension": ".py",
   "mimetype": "text/x-python",
   "name": "python",
   "nbconvert_exporter": "python",
   "pygments_lexer": "ipython3",
   "version": "3.7.4"
  }
 },
 "nbformat": 4,
 "nbformat_minor": 4
}
