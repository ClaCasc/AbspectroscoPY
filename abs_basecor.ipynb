{
 "cells": [
  {
   "cell_type": "markdown",
   "metadata": {},
   "source": [
    "### User input"
   ]
  },
  {
   "cell_type": "code",
   "execution_count": null,
   "metadata": {},
   "outputs": [],
   "source": [
    "decimal = '.'                                                            # decimal of the input file\n",
    "sep = ';'                                                                # separator of the input file\n",
    "\n",
    "from config import *                                                     # Personal settings of local user to set input and output directories\n",
    "input_dir = input_directory + 'results/df_pathcor_sw.csv'                # input directory\n",
    "output = output_directory + 'results/'                                   # output directory\n",
    "\n",
    "dateheadername = 'Timestamp'                                             # header of the date  \n",
    "header = 0                                                               # header row number\n",
    "dateparsingformat = '%Y-%m-%d %H:%M:%S'                                  # format of the date \n",
    "sample_name = 'sw'                                                       # name of the sample\n",
    "\n",
    "nperiods = 10                                                            # number of dates to display in the absorbance spectra plot\n",
    "fig_format = '.tiff'                                                     # format of the exported figure\n",
    "dpi = 300                                                                # resolution of the exported figure\n",
    "\n",
    "startwv = '700 nm'                                                       # starting wavelength for the baseline correction\n",
    "\n",
    "dates_start = ['2018-11-13 04:32:00']                                    # starting dates of specific periods to correct for specific factors or/and different wavelength range; if the factor/wavelength range to use is not the same for the whole dataframe add \", 'date'\"\n",
    "dates_end = ['2018-12-04 09:12:00']                                      # ending dates of specific periods to correct for specific factors or/and different wavelength range; if the factor/wavelength range to use is not the same for the whole dataframe add \", 'date'\"\n",
    "\n",
    "startwvs = ['700 nm']                                                    # starting wavelengths for the different periods for which perform a different baseline correction; ; if the wavelength range to use is not the same for the whole dataframe add \", 'wv'\"\n",
    "endwvs = ['737.5 nm']                                                    # ending wavelengths for the different periods for which perform a different baseline correction; ; if the wavelength range to use is not the same for the whole dataframe add \", 'wv'\"\n",
    "\n",
    "cal_factors = [2, 4]                                                     # calibration factors; if the factor needs to be summed or subtracted instead of multiplied, please change the symbol in the code (* cal_factors[j]). The numbers were chosen only to test the algorithm.\n",
    "cal_symbols = [0, 1]                                                     # calibration operation: 0 (multiplication), 1 (sum), 2 (difference)"
   ]
  },
  {
   "cell_type": "markdown",
   "metadata": {},
   "source": [
    "### Start environment and import data"
   ]
  },
  {
   "cell_type": "code",
   "execution_count": null,
   "metadata": {},
   "outputs": [],
   "source": [
    "import abspectroscopy_functions as abspy # Functions from the AbspectroscoPY toolbox\n",
    "import pandas as pd\n",
    "import numpy as np\n",
    "import matplotlib.pyplot as plt\n",
    "import matplotlib.dates as mdates\n",
    "from matplotlib.ticker import (MultipleLocator, FormatStrFormatter, AutoMinorLocator)\n",
    "from datetime import datetime\n",
    "from datetime import timedelta\n",
    "\n",
    "df = pd.read_csv(input_dir, sep = sep, header = header, index_col = 0) \n",
    "df.index = pd.to_datetime(df.index)               # make sure time column (here index) is using time format\n",
    "df"
   ]
  },
  {
   "cell_type": "markdown",
   "metadata": {},
   "source": [
    "### Set a wavelength range to use for the baseline correction"
   ]
  },
  {
   "cell_type": "code",
   "execution_count": null,
   "metadata": {},
   "outputs": [],
   "source": [
    "### Plot the absorbance spectra for different dates covering the temporal variability of the data and choose a wavelength range to correct for the baseline drift. "
   ]
  },
  {
   "cell_type": "code",
   "execution_count": null,
   "metadata": {},
   "outputs": [],
   "source": [
    "%matplotlib inline # necessary if the notebook is not configured to use the inline backend by default\n",
    "#%matplotlib notebook\n",
    "plt.ion()\n",
    "abspy.makeabsplot(df, output, dateparsingformat, nperiods, sample_name)"
   ]
  },
  {
   "cell_type": "markdown",
   "metadata": {},
   "source": [
    "### abs_basecor"
   ]
  },
  {
   "cell_type": "code",
   "execution_count": null,
   "metadata": {},
   "outputs": [],
   "source": [
    "### Compute the median of the attenuation data for the selected wavelength region and subtract it from the absorbance data to account for the instrumental baseline drift."
   ]
  },
  {
   "cell_type": "code",
   "execution_count": null,
   "metadata": {},
   "outputs": [],
   "source": [
    "def abs_basecor(df_in, \n",
    "                startwv):\n",
    "    '''\n",
    "    function to account for the instrumental baseline drift\n",
    "    :argument df_in: dataframe in input\n",
    "    :return: the baseline corrected attenuation dataframe and the standard deviation per each measurement of the chosen range of wavelength   \n",
    "    '''      \n",
    "    df_in.columns = [str(col) + 'nm' for col in df_in.columns]\n",
    "    df_out = df_in.copy()\n",
    "    header = list(df_out)                            # list of wavelengths; 700-735.5 nm is the wavelength region chosen in this example\n",
    "    start = df_out.columns.get_loc(startwv)          # get the starting and ending column position of the two wavelengths \n",
    "    end = len(header)                                \n",
    "    med = df_out.iloc[:,start:end].median(axis = 1)    # compute the median of the attenuation values for the columns between start and end    \n",
    "    std = df_out.iloc[:,start:end].std(axis = 1)\n",
    "    df_out = df_out.iloc[:,0:start]                   # obtain a subdataset which excludes columns from 700 nm onwards\n",
    "    df_out = df_out.subtract(med, axis = 0)           # perform the baseline correction    \n",
    "    return(df_out, med, std)"
   ]
  },
  {
   "cell_type": "code",
   "execution_count": null,
   "metadata": {},
   "outputs": [],
   "source": [
    "df_bc = abs_basecor(df, startwv)\n",
    "df_bc[0].to_csv(output + 'df_baselinecor_' + str(sample_name) + '.csv', sep = sep, decimal = decimal, index=True) # export the dataframe\n",
    "df_bc[0]"
   ]
  },
  {
   "cell_type": "markdown",
   "metadata": {},
   "source": [
    "### In case of baseline shift across periods use this function instead and the following cell:"
   ]
  },
  {
   "cell_type": "code",
   "execution_count": null,
   "metadata": {},
   "outputs": [],
   "source": [
    "'''\n",
    "def abs_basecor(df_in,\n",
    "                dates_start,\n",
    "                dates_end,\n",
    "                startwvs,\n",
    "                endwvs):\n",
    "    \n",
    "    #function to account for the instrumental baseline drift\n",
    "    #:argument df_in: dataframe in input\n",
    "    #:argument dates_start: starting dates of specific periods to correct for specific factors or/and different wavelength range\n",
    "    #:argument dates_end: starting dates of specific periods to correct for specific factors or/and different wavelength range\n",
    "    #:argument startwvs: starting wavelengths for the different periods for which perform a different baseline correction\n",
    "    #:argument endwvs: ending wavelengths for the different periods for which perform a different baseline correction\n",
    "    #:return: the baseline corrected attenuation dataframe and the standard deviation per each measurement of the chosen range of wavelength   \n",
    "        \n",
    "    df_in = df.copy()\n",
    "    df_out = df_in.copy()\n",
    "    df_out.index = pd.to_datetime(df_out.index, format= dateparsingformat)\n",
    "    df_out = df_out.reset_index()\n",
    "    for j in range(0, len(dates_start)):\n",
    "        start = pd.to_datetime(dates_start[j], format= dateparsingformat)\n",
    "        end = pd.to_datetime(dates_end[j], format= dateparsingformat)\n",
    "        for i in df_out.index:\n",
    "            t = df_out.iloc[i,0]\n",
    "            if (t >= start) & (t <= end):\n",
    "                startwv = df_out.columns.get_loc(startwvs[j])                # get the starting and ending column position of the two wavelengths \n",
    "                endwv = df_out.columns.get_loc(endwvs[j]) + 1   \n",
    "                med = df_out.iloc[i, startwv:endwv].median()                 # compute the median of the attenuation values for the columns between start and end \n",
    "                std = df_out.iloc[:, startwv:endwv].std()\n",
    "                df_out.iloc[i, 1:] = df_out.iloc[i, 1:startwv].subtract(med) # obtain a subdataset which excludes columns from 700 nm (or another starting wv) onwards and perform the baseline correction    \n",
    "    return(df_out, med, std)\n",
    "'''"
   ]
  },
  {
   "cell_type": "code",
   "execution_count": null,
   "metadata": {},
   "outputs": [],
   "source": [
    "'''\n",
    "df_bc = abs_basecor(df, dates_start, dates_end, startwvs, endwvs)\n",
    "df_bc[0].set_index('Timestamp', inplace=True)\n",
    "#df_bc[0].to_csv(output + 'df_baselinecor_' + str(sample_name) + '.csv', sep = sep, decimal = decimal, index=True) # export the dataframe\n",
    "df_bc[0]\n",
    "'''"
   ]
  },
  {
   "cell_type": "markdown",
   "metadata": {},
   "source": [
    "### Compute and plot the median and the noise level as function of time"
   ]
  },
  {
   "cell_type": "code",
   "execution_count": null,
   "metadata": {},
   "outputs": [],
   "source": [
    "#%matplotlib inline \n",
    "%matplotlib notebook \n",
    "plt.ion()\n",
    "\n",
    "abspy.makeaplot_nocol(df_bc[1], output, '2018-11-13 04:32:00','2018-12-04 09:12:00','median 700-737.5 nm', 'median_baseline_correction')"
   ]
  },
  {
   "cell_type": "code",
   "execution_count": null,
   "metadata": {},
   "outputs": [],
   "source": [
    "sigma3 = df_bc[2]*3\n",
    "sigma3"
   ]
  },
  {
   "cell_type": "code",
   "execution_count": null,
   "metadata": {},
   "outputs": [],
   "source": [
    "%matplotlib inline\n",
    "#%matplotlib notebook \n",
    "plt.ion()\n",
    "\n",
    "abspy.makeaplot_nocol(sigma3, output, '2018-11-13 04:32:00','2018-12-04 09:12:00', '3 \\u03C3', 'noise_level_3sigma_zoom')"
   ]
  },
  {
   "cell_type": "markdown",
   "metadata": {},
   "source": [
    "### Calibration: multiply/sum/subtract a factor"
   ]
  },
  {
   "cell_type": "code",
   "execution_count": null,
   "metadata": {},
   "outputs": [],
   "source": [
    "'''\n",
    "dfp = df.copy()\n",
    "dfp.index = pd.to_datetime(dfp.index, format= dateparsingformat)\n",
    "dfp = dfp.reset_index()\n",
    "for j in range(0, len(dates_start)):\n",
    "    start = pd.to_datetime(dates_start[j], format= dateparsingformat)\n",
    "    end = pd.to_datetime(dates_end[j], format= dateparsingformat)\n",
    "    for i in dfp.index:\n",
    "        t = dfp.iloc[i,0]\n",
    "        if (t >= start) & (t <= end):\n",
    "            if cal_symbols[j] == 0:\n",
    "                dfp.iloc[i, 1:] = dfp.iloc[i, 1:] * cal_factors[j]\n",
    "            if cal_symbols[j] == 1:\n",
    "                dfp.iloc[i, 1:] = dfp.iloc[i, 1:] + cal_factors[j]\n",
    "            if cal_symbols[j] == 2:\n",
    "                dfp.iloc[i, 1:] = dfp.iloc[i, 1:] - cal_factors[j]             \n",
    "dfp.to_csv(output + 'df_calibration_' + str(sample_name) + '.csv', sep = sep, decimal = decimal, index=True) # export the dataframe\n",
    "dfp\n",
    "'''"
   ]
  }
 ],
 "metadata": {
  "kernelspec": {
   "display_name": "Python 3",
   "language": "python",
   "name": "python3"
  },
  "language_info": {
   "codemirror_mode": {
    "name": "ipython",
    "version": 3
   },
   "file_extension": ".py",
   "mimetype": "text/x-python",
   "name": "python",
   "nbconvert_exporter": "python",
   "pygments_lexer": "ipython3",
   "version": "3.7.4"
  }
 },
 "nbformat": 4,
 "nbformat_minor": 4
}
