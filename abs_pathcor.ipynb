{
 "cells": [
  {
   "cell_type": "markdown",
   "metadata": {},
   "source": [
    "### User input"
   ]
  },
  {
   "cell_type": "code",
   "execution_count": null,
   "metadata": {},
   "outputs": [],
   "source": [
    "decimal = '.'                                                            # decimal of the input file\n",
    "sep = ';'                                                                # separator of the input file\n",
    "\n",
    "from config import *                                                     # Personal settings of local user to set input and output directories\n",
    "input_dir = input_directory + 'results/df_shifted_sw.csv'                # input directory\n",
    "output = output_directory + 'results/'                                   # output directory\n",
    "\n",
    "dateheadername = 'Timestamp'                                             # header of the date  \n",
    "header = 0                                                               # header row number\n",
    "sample_name = 'sw'                                                       # name of the sample\n",
    "\n",
    "path_length = 3.5                                                        # path length of the window of the sensor [cm]"
   ]
  },
  {
   "cell_type": "markdown",
   "metadata": {},
   "source": [
    "### Start environment and import data"
   ]
  },
  {
   "cell_type": "code",
   "execution_count": null,
   "metadata": {},
   "outputs": [],
   "source": [
    "import abspectroscopy_functions as abspy # Functions from the AbspectroscoPY toolbox\n",
    "import tkinter as tk\n",
    "from tkinter import messagebox\n",
    "import pandas as pd\n",
    "\n",
    "df = pd.read_csv(input_dir, sep = sep, header = header, index_col = 0) \n",
    "df.index = pd.to_datetime(df.index)      # make sure time column (here index) is using time format\n",
    "df"
   ]
  },
  {
   "cell_type": "markdown",
   "metadata": {},
   "source": [
    "### abs_pathcor"
   ]
  },
  {
   "cell_type": "code",
   "execution_count": null,
   "metadata": {},
   "outputs": [],
   "source": [
    "def abs_pathcor(df_in, \n",
    "                path_length):\n",
    "    '''\n",
    "    function to correct the attenuation data according to the path length\n",
    "    :argument df_in: dataframe in input\n",
    "    :argument path_length: path length of the window of the sensor\n",
    "    :return: the dataframe of attenuation data corrected by the path length of the window of the sensor    \n",
    "    '''\n",
    "    before_correction = df_in['255 nm'][0] # attenuation value read by the sensor for the first date before path length correction \n",
    "    abs_scale = path_length \n",
    "    nrcol = len(df_in.columns)\n",
    "    df_out = df_in.copy()\n",
    "    for i in range(0,nrcol):\n",
    "        df_out.iloc[:,i] = df_out.iloc[:,i]/abs_scale\n",
    "    pd.options.display.max_rows = 15\n",
    "    after_correction = df_out['255 nm'][0] # attenuation value read by the sensor for the first date after path length correction \n",
    "    \n",
    "    # Compare the attenuation value read by the sensor before and after path length correction for a specific date to the value \n",
    "    # obtained in the laboratory (consider that, if analysing filtered samples in the laboratory, part of the difference in the \n",
    "    # absolute value is due to the fact that the sensor measures instead unfiltered water: the sensor data should be higher than\n",
    "    # the laboratory data):\n",
    "    return('before correction:', before_correction, 'after correction:', after_correction, 'dataframe after correction:', df_out)"
   ]
  },
  {
   "cell_type": "code",
   "execution_count": null,
   "metadata": {},
   "outputs": [],
   "source": [
    "abs_pathcor(df, path_length) [0:4]"
   ]
  },
  {
   "cell_type": "code",
   "execution_count": null,
   "metadata": {},
   "outputs": [],
   "source": [
    "root = tk.Tk()\n",
    "root.withdraw()\n",
    "root.attributes(\"-topmost\", True)\n",
    "\n",
    "MsgBox = tk.messagebox.showwarning ('Warning','Compare the attenuation value read by the sensor before and after path length correction for a specific date to the value obtained in the laboratory. Input yes or no in the following cell.',icon = 'warning')\n",
    "root.destroy()"
   ]
  },
  {
   "cell_type": "code",
   "execution_count": null,
   "metadata": {},
   "outputs": [],
   "source": [
    "answer = input()\n",
    "if answer == 'yes':\n",
    "    df_pathcor = abs_pathcor(df, path_length)[5] # the dataframe with corrected values is the fifth output of the function\n",
    "elif answer == 'no':\n",
    "    df_pathcor = df.copy()\n",
    "else:\n",
    "    root = tk.Tk()\n",
    "    root.withdraw()\n",
    "    root.attributes(\"-topmost\", True)\n",
    "\n",
    "    MsgBox = tk.messagebox.showerror ('Error','You are not providing one of the two possible answers. Please input \"yes\" or \"no\".',icon = 'error')\n",
    "    root.destroy()    "
   ]
  },
  {
   "cell_type": "code",
   "execution_count": null,
   "metadata": {},
   "outputs": [],
   "source": [
    "df_pathcor.to_csv(output + 'df_pathcor_' + str(sample_name) + '.csv', sep = sep, decimal = decimal, index=True) # export the pathlength corrected dataset\n",
    "df_pathcor"
   ]
  }
 ],
 "metadata": {
  "kernelspec": {
   "display_name": "Python 3",
   "language": "python",
   "name": "python3"
  },
  "language_info": {
   "codemirror_mode": {
    "name": "ipython",
    "version": 3
   },
   "file_extension": ".py",
   "mimetype": "text/x-python",
   "name": "python",
   "nbconvert_exporter": "python",
   "pygments_lexer": "ipython3",
   "version": "3.7.4"
  }
 },
 "nbformat": 4,
 "nbformat_minor": 4
}

