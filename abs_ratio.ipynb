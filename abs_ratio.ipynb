{
 "cells": [
  {
   "cell_type": "markdown",
   "metadata": {},
   "source": [
    "### User input"
   ]
  },
  {
   "cell_type": "code",
   "execution_count": null,
   "metadata": {},
   "outputs": [],
   "source": [
    "decimal = '.'                                                                   # decimal of the input file\n",
    "sep = ';'                                                                       # separator of the input file\n",
    "\n",
    "from config import *                                                            # Personal settings of local user to set input and output directories\n",
    "input_dir = input_directory + 'results/df_mediancor_sw_30.0.csv'                # input directory\n",
    "output = output_directory + 'results/'                                          # output directory\n",
    "\n",
    "dateheadername = 'Timestamp'                                                    # header of the date  \n",
    "header = 0                                                                      # header row number\n",
    "dateparsingformat = '%Y-%m-%d %H:%M:%S'                                         # format of the date \n",
    "sample_name = 'sw'                                                              # name of the sample\n",
    "\n",
    "timestart = '2018-11-13 05:02:00'                                               # starting date\n",
    "timeend = '2018-12-04 08:44:00'                                                 # ending date\n",
    "wv1 = '220 nm'                                                                  # wavelength numerator\n",
    "wv2 = '255 nm'                                                                  # wavelength denominator\n",
    "\n",
    "# To plot the time series of ratio of absorbance data, the user can modify:\n",
    "title1 = 'absorbance_ratio' + str(wv1) + '_' + str(wv2)                         # title of the exported figure 1\n",
    "ylabel = 'A$_{220}$/A$_{255}$ [dimensionless]'                                  # label y-axis\n",
    "fig_format = '.tiff'                                                            # format of the exported figure\n",
    "dpi = 300                                                                       # resolution of the exported figure\n",
    "\n",
    "# To plot the time series of changes (%) ratio of absorbance data, the user can modify:\n",
    "date_ref_start = '2018-11-13 05:02:00'                                          # define reference period for computing the changes\n",
    "date_ref_end = '2018-11-14 05:02:00'\n",
    "ylabel2 = 'A$_{220}$/A$_{255}$ change [%]'                                      # label y-axis\n",
    "title2 = 'absorbance_ratio_change_' + str(wv1) + '_' + str(wv2)                 # title of the exported figure 2\n",
    "\n",
    "# To look at the change in percentage at a certain date:\n",
    "date_interesting = '2018-12-04 08:38:00'                                        # specify the date of interest"
   ]
  },
  {
   "cell_type": "markdown",
   "metadata": {},
   "source": [
    "### Start environment and import data"
   ]
  },
  {
   "cell_type": "code",
   "execution_count": null,
   "metadata": {},
   "outputs": [],
   "source": [
    "import abspectroscopy_functions as abspy # Functions from the AbspectroscoPY toolbox\n",
    "import pandas as pd\n",
    "import numpy as np\n",
    "import matplotlib.pyplot as plt\n",
    "import matplotlib.dates as mdates\n",
    "from matplotlib.ticker import (MultipleLocator, FormatStrFormatter, AutoMinorLocator)\n",
    "\n",
    "df = pd.read_csv(input_dir, sep = sep, header = header, index_col = 0) \n",
    "df.index = pd.to_datetime(df.index)      # make sure time column (here index) is using time format\n",
    "df"
   ]
  },
  {
   "cell_type": "markdown",
   "metadata": {},
   "source": [
    "### abs_ratio"
   ]
  },
  {
   "cell_type": "code",
   "execution_count": null,
   "metadata": {},
   "outputs": [],
   "source": [
    "def abs_ratio(df_in, \n",
    "              date_ref_start,\n",
    "              date_ref_end,\n",
    "              dateparsingformat,\n",
    "              wavelength1,\n",
    "              wavelength2,              \n",
    "              date_string):\n",
    "    '''\n",
    "    function to calculate the ratio of absorbance data at two different wavelengths and compute the percentage change in relation to a reference period \n",
    "    :argument df_in: dataframe in input \n",
    "    :argument date_ref_start: starting date of the reference period\n",
    "    :argument date_ref_end: ending date of the reference period\n",
    "    :argument dateparsingformat: format of the dates\n",
    "    :argument wavelength1: wavelength numerator\n",
    "    :argument wavelength2: wavelength denominator\n",
    "    :argument date_string: date where to look at the percentage change compared to the reference period\n",
    "    :return: dataframe with the ratio of absorbance data at two different wavelengths (df_out1) and with percentage changes of the ratio of absorbance data in relation to a reference period (df_out2)\n",
    "    '''    \n",
    "    df_ratio = df_in[wavelength1]/df_in[wavelength2]\n",
    "    \n",
    "    ### COMPUTE THE PERCENTAGE CHANGES OF THE ABSORBANCE RATIOS DATA IN RELATION TO A REFERENCE PERIOD AND PLOT IT\n",
    "    # Define a reference period:\n",
    "    date_ref_start1 = str(df_in.iloc[df_in.index.get_loc(date_ref_start, method='nearest')].name) # find the closest date to the date_ref_start and the second closest date to the date_ref_end available in the dataframe\n",
    "    date_ref_end1 = str(df_in.iloc[df_in.index.get_loc(date_ref_end, method='nearest')+1].name)\n",
    "    timestamp_selected = pd.date_range(start = date_ref_start1, end = date_ref_end1, periods = 2).tolist()    \n",
    "    idx_vector = []\n",
    "    for timestamp in timestamp_selected:\n",
    "            index_date_time=np.where(df_in.index == timestamp.strftime(dateparsingformat))[0]     # to check for specific date-time\n",
    "            idx=index_date_time[:][0]\n",
    "            idx_vector.append(idx)\n",
    "    #print('idx_vector:',idx_vector)\n",
    "\n",
    "    df_ref = df_ratio.copy()\n",
    "    df_ref = df_ref[idx_vector[0]:idx_vector[1]]\n",
    "\n",
    "    # Normalize the data by the average of the reference period and multiply by 100 to get %change:\n",
    "    df_ref_av = df_ref.mean()                                                                     # compute the average of the vector\n",
    "    df_sub_ref_av = df_ratio.copy()\n",
    "    df_sub_ref_av = df_sub_ref_av - df_ref_av                                                     # subtract this average to the vector\n",
    "    df_change_per = (df_sub_ref_av/abs(df_ref_av))*100                                            # compute the percent change\n",
    "\n",
    "    # Exclude from the dataset the reference period:\n",
    "    df_change_per = df_change_per.drop(df_change_per.index[idx_vector[0]:idx_vector[1]])\n",
    "    \n",
    "    ### PERCENTAGE CHANGE AT A SPECIFIC DATE:\n",
    "    print('Percentage change at the specified date:', df_change_per.iloc[np.where(df_change_per.index == date_string)])\n",
    "    \n",
    "    df_out1 = df_ratio\n",
    "    df_out2 = df_change_per\n",
    "    return(df_out1, df_out2)"
   ]
  },
  {
   "cell_type": "code",
   "execution_count": null,
   "metadata": {},
   "outputs": [],
   "source": [
    "df_ratio, df_change_per = abs_ratio(df, date_ref_start, date_ref_end, dateparsingformat, wv1, wv2, date_interesting)\n",
    "df_change_per.to_csv(output + 'df_absorbance_ratio_change_' + str(wv1) + '_' + str(wv2) + '.csv', index = True) # export the dataframe"
   ]
  },
  {
   "cell_type": "markdown",
   "metadata": {},
   "source": [
    "### Visualise the absorbance ratio time series"
   ]
  },
  {
   "cell_type": "code",
   "execution_count": null,
   "metadata": {},
   "outputs": [],
   "source": [
    "%matplotlib inline # necessary if the notebook is not configured to use the inline backend by default\n",
    "#%matplotlib notebook\n",
    "plt.ion()\n",
    "abspy.makeaplot_nocolsel(df_change_per, output, timestart, timeend, wv1, wv2, sample_name, title1) "
   ]
  },
  {
   "cell_type": "markdown",
   "metadata": {},
   "source": [
    "### Visualise the variation of absorbance ratios in relation to a reference period in terms of percentage changes"
   ]
  },
  {
   "cell_type": "code",
   "execution_count": null,
   "metadata": {},
   "outputs": [],
   "source": [
    "#%matplotlib inline \n",
    "%matplotlib notebook\n",
    "plt.ion()\n",
    "abspy.makeaplot_nocolsel(df_change_per, output, timestart, timeend, wv1, wv2, sample_name, title2, ylabel = '{} {} '.format('A' + '$_{' + wv1 + '}$' + '/' + 'A' + '$_{' + wv2 + '}$', 'change [%]')) "
   ]
  }
 ],
 "metadata": {
  "kernelspec": {
   "display_name": "Python 3",
   "language": "python",
   "name": "python3"
  },
  "language_info": {
   "codemirror_mode": {
    "name": "ipython",
    "version": 3
   },
   "file_extension": ".py",
   "mimetype": "text/x-python",
   "name": "python",
   "nbconvert_exporter": "python",
   "pygments_lexer": "ipython3",
   "version": "3.7.4"
  }
 },
 "nbformat": 4,
 "nbformat_minor": 4
}
