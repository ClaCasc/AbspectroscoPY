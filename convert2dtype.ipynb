{
 "cells": [
  {
   "cell_type": "markdown",
   "metadata": {},
   "source": [
    "### User input"
   ]
  },
  {
   "cell_type": "code",
   "execution_count": null,
   "metadata": {},
   "outputs": [],
   "source": [
    "decimal = '.'                                                     # decimal of the input file\n",
    "sep = ';'                                                         # separator of the input file\n",
    "\n",
    "from config import *                                              # Personal settings of local user to set input and output directories\n",
    "input_dir = input_directory + 'results/df_sw.csv'                 # input directory\n",
    "output = output_directory + 'results/'                            # output directory\n",
    "\n",
    "dateheadername = 'Timestamp'                                      # header of the date  \n",
    "header = 0                                                        # header row number\n",
    "sample_name = 'sw'                                                # name of the sample"
   ]
  },
  {
   "cell_type": "markdown",
   "metadata": {},
   "source": [
    "### Start environment and import data"
   ]
  },
  {
   "cell_type": "code",
   "execution_count": null,
   "metadata": {},
   "outputs": [],
   "source": [
    "import abspectroscopy_functions as abspy # Functions from the AbspectroscoPY toolbox\n",
    "import pandas as pd\n",
    "\n",
    "df = df = pd.read_csv(input_dir, sep = sep, header = header, index_col = 0)\n",
    "df.dtypes"
   ]
  },
  {
   "cell_type": "markdown",
   "metadata": {},
   "source": [
    "### convert2dtype"
   ]
  },
  {
   "cell_type": "code",
   "execution_count": null,
   "metadata": {},
   "outputs": [],
   "source": [
    "def convert2dtype(df_in, \n",
    "                  dateheadername):\n",
    "    '''\n",
    "    function to convert one or more categories of values to a different one (in this example, the column \"Timestamp\" \n",
    "    will be converted to the format datetime, while the other columns will be converted to floating-point numbers)\n",
    "    :argument df_in: dataframe in input\n",
    "    :argument dateheadername: name of the date column\n",
    "    :return: dataframe with converted categories of values\n",
    "    '''  \n",
    "    print('Categories before conversion:', '\\n', df_in.dtypes, '\\n', '\\n', ' Converting:')\n",
    "    for i,col in enumerate(df_in.columns):                             # iterating the columns\n",
    "        ifskip = True\n",
    "        if col == dateheadername:\n",
    "            df_in[[col]] = df_in[[col]].apply(pd.to_datetime)    \n",
    "        elif col != dateheadername: \n",
    "            if df_in[col].dtype == 'object': \n",
    "                df_in[[col]] = df_in[[col]].apply(pd.to_numeric)       # convert all columns of DataFrame\n",
    "                ifconv = True\n",
    "    #        elif df_in[col].dtype == 'other category to convert':\n",
    "    #            df_in[[col]] = df_in[[col]].apply(pd.to_numeric)      # pd.to_(category to which convert the current category)\n",
    "    #            ifconv = True\n",
    "            else:\n",
    "                ifskip = False\n",
    "        else:\n",
    "            ifskip = False\n",
    "\n",
    "        if ifskip:\n",
    "            print(\"%5i: Converted to desired category! (%s)\" %(i,col))  # python-output-formatting\n",
    "        else:\n",
    "            print(\"%5i: Skip!               (%s)\" %(i,col))\n",
    "    print('\\n', 'Categories after conversion:', '\\n', df_in.dtypes)\n",
    "    df_out = df_in.copy()    \n",
    "    return (df_out)"
   ]
  },
  {
   "cell_type": "code",
   "execution_count": null,
   "metadata": {},
   "outputs": [],
   "source": [
    "df_dtypecor = convert2dtype(df, dateheadername)\n",
    "df_dtypecor.to_csv(output + 'df_dtypecor_' + str(sample_name) + '.csv', sep = sep, decimal = decimal, index = True) # to export the type-converted dataset\n",
    "#df_dtypecor"
   ]
  }
 ],
 "metadata": {
  "kernelspec": {
   "display_name": "Python 3",
   "language": "python",
   "name": "python3"
  },
  "language_info": {
   "codemirror_mode": {
    "name": "ipython",
    "version": 3
   },
   "file_extension": ".py",
   "mimetype": "text/x-python",
   "name": "python",
   "nbconvert_exporter": "python",
   "pygments_lexer": "ipython3",
   "version": "3.7.4"
  }
 },
 "nbformat": 4,
 "nbformat_minor": 4
}
