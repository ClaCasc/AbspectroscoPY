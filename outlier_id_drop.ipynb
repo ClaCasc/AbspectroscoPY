{
 "cells": [
  {
   "cell_type": "markdown",
   "metadata": {},
   "source": [
    "### User input"
   ]
  },
  {
   "cell_type": "code",
   "execution_count": null,
   "metadata": {},
   "outputs": [],
   "source": [
    "# Before starting: FILL OUT THE EXCEL FILE \"events_table\" AND EXPORT IT AS CSV FILE\n",
    "\n",
    "decimal = '.'                                                                # decimal of the input file\n",
    "sep = ';'                                                                    # separator of the input file\n",
    "sep2 =','                                                                    # separator of the input event file\n",
    "\n",
    "from config import *                                                         # Personal settings of local user to set input and output directories\n",
    "input_dir = input_directory + 'results/df_baselinecor_sw.csv'                # input directory\n",
    "output = output_directory + 'results/'                                       # output directory\n",
    "indata_events = input_directory + 'other_data/events_table.csv'              # input event table   \n",
    "\n",
    "dateheadername = 'Timestamp'                                                 # header of the date  \n",
    "header = 0                                                                   # header row number\n",
    "dateparsingformat = '%Y-%m-%d %H:%M:%S'                                      # format of the date \n",
    "sample_name = 'sw'                                                           # name of the sample\n",
    "\n",
    "timestart = '2018-11-13 05:02:00'                                            # starting date\n",
    "timeend = '2018-12-04 08:44:00'                                              # ending date\n",
    "\n",
    "nevents = 2                                                                  # number of typology of events\n",
    "evdrop = [1, 2]                                                              # typology of event to drop (no events to drop: type None)\n",
    "\n",
    "\n",
    "# To plot the time series of absorbance data plotting the different events, the user can modify:\n",
    "col_sel = '255 nm'                                                           # select a specific wavelength to plot\n",
    "title = 'absorbance_data_baseline_corrected_'                                # title of the exported figure 1\n",
    "title1 = 'absorbance_data_baseline_corrected_with_events'                    # title of the exported figure 2\n",
    "title2 = 'absorbance_data_baseline_corrected_with_no_events'                 # title of the exported figure 3\n",
    "fig_format = '.tiff'                                                         # format of the exported figure\n",
    "dpi = 300                                                                    # resolution of the exported figure"
   ]
  },
  {
   "cell_type": "markdown",
   "metadata": {},
   "source": [
    "### Start environment and import data"
   ]
  },
  {
   "cell_type": "code",
   "execution_count": null,
   "metadata": {},
   "outputs": [],
   "source": [
    "import abspectroscopy_functions as abspy # Functions from the AbspectroscoPY toolbox\n",
    "import pandas as pd\n",
    "import numpy as np\n",
    "import matplotlib.pyplot as plt\n",
    "import matplotlib.dates as mdates\n",
    "from matplotlib.ticker import (MultipleLocator, FormatStrFormatter, AutoMinorLocator)\n",
    "import statistics \n",
    "from statistics import median\n",
    "\n",
    "df = pd.read_csv(input_dir, sep = sep, header = header, index_col = 0) \n",
    "df.index = pd.to_datetime(df.index)     # make sure time column (here index) is using time format\n",
    "df"
   ]
  },
  {
   "cell_type": "code",
   "execution_count": null,
   "metadata": {},
   "outputs": [],
   "source": [
    "%matplotlib inline # necessary if the notebook is not configured to use the inline backend by default\n",
    "#%matplotlib notebook\n",
    "plt.ion()\n",
    "abspy.makeaplot(df, output, col_sel, timestart, timeend, sample_name, title)"
   ]
  },
  {
   "cell_type": "markdown",
   "metadata": {},
   "source": [
    "### outliers_id_drop"
   ]
  },
  {
   "cell_type": "code",
   "execution_count": null,
   "metadata": {},
   "outputs": [],
   "source": [
    "def outliers_id_drop(df_in1, \n",
    "                     df_in2, \n",
    "                     output_dir,\n",
    "                     col_sel):\n",
    "    '''\n",
    "    function to label outliers and events based on user knowledge and remove the known outliers\n",
    "    :argument df_in1: dataframe in input (df_bc from the function \"abs_basecor\")\n",
    "    :argument df_in2: dataframe in input (df with events)\n",
    "    :argument output_dir: directory where storing the results\n",
    "    :argument col_sel: selected wavelength column\n",
    "    return: the dataframe of events (df_out1) and the baseline corrected dataframe after removing the specified events (df_out2)\n",
    "    '''\n",
    "    ### VISUALISE SPECIFIC EVENT TYPOLOGIES\n",
    "    df_ev = pd.read_csv(df_in2, sep = sep2, header = header, parse_dates=[['start_date', 'start_time'], ['end_date', 'end_time']])\n",
    "    df_ev = df_ev.dropna(subset=['event_code'])                              # remove all the rows that do not have an event code\n",
    "\n",
    "    x_ev = df_ev['start_date_start_time'] + ((df_ev['end_date_end_time']-df_ev['start_date_start_time'])/2) # compute the average datetime of the event\n",
    "    #print('axis-x:', x_ev)\n",
    "\n",
    "    y_ev = []                                                                 # compute at which y-axis coordinate insert the symbol\n",
    "    for i in range(0, len(x_ev)):\n",
    "        timestart2 = df_ev['start_date_start_time'] [i]\n",
    "        timeend2 = df_ev['end_date_end_time'] [i]    \n",
    "        ym = median(df_in1[col_sel].loc[timestart2:timeend2])                 # calculate the median per each time period correspondant to an event\n",
    "        ystart = df_in1[col_sel].iloc[df_in1.index.get_loc(timestart2, method='nearest')] # get the absorbance value at the closest timestamp to the event starting date\n",
    "        if ym > ystart:                                                       # add one unit or subtract one unit according to the fact that the median absorbance value during the event is a positive value greater or lower than one for visualisation purposes\n",
    "            ysel = ym + 1\n",
    "        else:\n",
    "            ysel = ym - 1  \n",
    "        y_ev.append(ysel)\n",
    "    #print('axis-y:', y_ev)\n",
    "\n",
    "    df_ev['middle_date_time'], df_ev ['median_abs_middle_date_time'] = [x_ev, y_ev] # add two columns to the events dataframe, including the average date of the event and the median absorbance value for that event plus/minus 1 unit\n",
    "    ev = df_ev.loc[df_ev.loc[df_ev['event_code'] == evdrop].index]\n",
    "    df_ev = df_ev[['middle_date_time', 'median_abs_middle_date_time', 'event_code']] # subset the dataframe \n",
    "    df_ev.set_index('middle_date_time', inplace=True)                          # set the average date as index\n",
    "    \n",
    "    ### DROP SPECIFIC EVENT TYPOLOGIES\n",
    "\n",
    "    ev.reset_index(inplace = True)\n",
    "\n",
    "    df_drop = df_in1.copy()\n",
    "    for i in range(0, len(ev)):\n",
    "        mask = (df_drop.index >= ev['start_date_start_time'][i]) & (df_drop.index <= ev['end_date_end_time'][i])\n",
    "        df_drop = df_drop.drop(df_drop[mask].index)\n",
    "    df_drop.to_csv(output_dir + 'df_noselectedevents.csv', index = True)\n",
    "    df_out1 = df_ev\n",
    "    df_out2 = df_drop\n",
    "    return(df_out1, df_out2)   "
   ]
  },
  {
   "cell_type": "code",
   "execution_count": null,
   "metadata": {},
   "outputs": [],
   "source": [
    "df_ev, df_drop = abspy.outliers_id_drop(df, indata_events, output, col_sel)"
   ]
  },
  {
   "cell_type": "markdown",
   "metadata": {},
   "source": [
    "### Visualise specific event typologies"
   ]
  },
  {
   "cell_type": "code",
   "execution_count": null,
   "metadata": {},
   "outputs": [],
   "source": [
    "#%matplotlib inline\n",
    "%matplotlib notebook\n",
    "plt.ion()\n",
    "abspy.makeaplotev(df, df_ev, output, col_sel, timestart, timeend, dateparsingformat, sample_name, title1)"
   ]
  },
  {
   "cell_type": "markdown",
   "metadata": {},
   "source": [
    "### Visualise the time series after dropping specific event typologies"
   ]
  },
  {
   "cell_type": "code",
   "execution_count": null,
   "metadata": {},
   "outputs": [],
   "source": [
    "#%matplotlib inline \n",
    "%matplotlib notebook\n",
    "plt.ion()\n",
    "abspy.makeaplotev(df_drop, df_ev, output, col_sel, timestart, timeend, dateparsingformat, sample_name, title2)"
   ]
  }
 ],
 "metadata": {
  "kernelspec": {
   "display_name": "Python 3",
   "language": "python",
   "name": "python3"
  },
  "language_info": {
   "codemirror_mode": {
    "name": "ipython",
    "version": 3
   },
   "file_extension": ".py",
   "mimetype": "text/x-python",
   "name": "python",
   "nbconvert_exporter": "python",
   "pygments_lexer": "ipython3",
   "version": "3.7.4"
  }
 },
 "nbformat": 4,
 "nbformat_minor": 4
}
