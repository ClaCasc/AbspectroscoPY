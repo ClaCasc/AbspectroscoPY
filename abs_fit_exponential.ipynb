{
 "cells": [
  {
   "cell_type": "markdown",
   "metadata": {},
   "source": [
    "### User input"
   ]
  },
  {
   "cell_type": "code",
   "execution_count": null,
   "metadata": {},
   "outputs": [],
   "source": [
    "decimal = '.'                                                                   # decimal of the input file\n",
    "sep = ';'                                                                       # separator of the input file\n",
    "input_dir = 'C:/Users/cace0002/AbspectroscoPY/results/df_mediancor_sw_30.0.csv' # input directory\n",
    "output = 'C:/Users/cace0002/AbspectroscoPY/results/'                            # output directory\n",
    "dateheadername = 'Timestamp'                                                    # header of the date  \n",
    "header = 0                                                                      # header row number\n",
    "dateparsingformat = '%Y-%m-%d %H:%M:%S'                                         # format of the date \n",
    "sample_name = 'sw'                                                              # name of the sample\n",
    "\n",
    "wl0 = 350                                                                       # reference wavelength in the equation \n",
    "                                                                                # a0*exp(-S*(x-wl0))+K\n",
    "startwl = 220                                                                   # starting wavelength\n",
    "endwl = 737.5                                                                   # ending wavelength\n",
    "S_f = 1                                                                         # sampling frequency\n",
    "\n",
    "#To plot a specific exponential fit, the user can modify:\n",
    "date_interesting = '2018-12-04 08:30:00' \n",
    "title1 = 'exponential_fit_'                                                     # title of the exported figure\n",
    "fig_format = '.tiff'                                                            # format of the exported figure\n",
    "dpi = 300                                                                       # resolution of the exported figure"
   ]
  },
  {
   "cell_type": "markdown",
   "metadata": {},
   "source": [
    "### Start environment and import data"
   ]
  },
  {
   "cell_type": "code",
   "execution_count": null,
   "metadata": {},
   "outputs": [],
   "source": [
    "import abspectroscopy_functions as abspy # Functions from the AbspectroscoPY toolbox\n",
    "import pandas as pd\n",
    "import numpy as np\n",
    "import matplotlib.pyplot as plt\n",
    "import matplotlib.dates as mdates\n",
    "from matplotlib.ticker import (MultipleLocator, FormatStrFormatter, AutoMinorLocator)\n",
    "from datetime import datetime\n",
    "from scipy import interpolate\n",
    "from sklearn.linear_model import LinearRegression\n",
    "import scipy as sp                       # To get the exponential fit\n",
    "from scipy.optimize import curve_fit\n",
    "from pylab import *\n",
    "\n",
    "df = pd.read_csv(input_dir, sep = sep, header = header, index_col = 0) \n",
    "df.index = pd.to_datetime(df.index)      # make sure time column (here index) is using time format\n",
    "df"
   ]
  },
  {
   "cell_type": "markdown",
   "metadata": {},
   "source": [
    "### abs_fit_exponential"
   ]
  },
  {
   "cell_type": "code",
   "execution_count": null,
   "metadata": {},
   "outputs": [],
   "source": [
    "def abs_fit_exponential(df_in, \n",
    "                        startwl,\n",
    "                        endwl,\n",
    "                        wl0,\n",
    "                        sampling_frequency): \n",
    "\n",
    "    '''\n",
    "    function to get a dataframe of optimised parameters and one standard deviation error when fitting an exponential curve to a time series of absorbance data\n",
    "    :argument df_in: dataframe in input\n",
    "    :argument startwl: starting wavelength\n",
    "    :argument endwl: ending wavelength\n",
    "    :argument wl0: reference wavelength in the equation a0*exp(-S*(x-wl0))+K\n",
    "    :argument sampling_frequency: sampling frequency\n",
    "    :return: dataframe with optimised parameters (df_out1) and with one standard deviation error (df_out2)\n",
    "    '''\n",
    "    \n",
    "    df_exp = df_in.copy()\n",
    "    df_exp = df_exp.reset_index()\n",
    "    df_exp = df_exp.T                                                 # transpose the data frame  \n",
    "    df_exp = df_exp.reset_index()                                     # restore the original index as row\n",
    "    headers = df_exp.iloc[0]                                          # rename the dates as headers                                     \n",
    "    df_exp = pd.DataFrame(df_exp.values[1:], columns = headers)       # convert the first row to header\n",
    "    df_exp = df_exp.rename(columns={\"Timestamp\": \"wl\"})               # rename the first column as \"wl\" = wavelength vector\n",
    "    df_exp['wl'] = df_exp['wl'].replace({'nm':''}, regex=True)        # remove \"nm\" from the wavelength vector\n",
    "    wl = df_exp['wl'].apply(pd.to_numeric)                            # convert the wavelength vector to numeric  \n",
    "\n",
    "    iteration=len(df_exp.columns)                                     # number of loop iterations\n",
    "    print('number of iterations',iteration)\n",
    "    empty_matrix=np.zeros((iteration, 3))                             # create an empty matrix to fill in with the parameters of the exponential fit for each datetime  (a0*np.exp(-S*(x-wl0))+K)\n",
    "    empty_matrix_2=np.zeros((iteration, 3))                           # create an empty matrix to fill in with the 1 std for the parameters of the exponential fit for each datetime\n",
    "     \n",
    "    counter=0\n",
    "    for i in range(0,iteration, sampling_frequency): \n",
    "        counter = i\n",
    "        print(counter) \n",
    "        absorbance = df_exp.iloc[:,i]\n",
    "        x = wl[(wl >= startwl) & (wl <= endwl)]\n",
    "        y = absorbance[(wl >= startwl) & (wl <= endwl)]\n",
    "        sf = interpolate.interp1d(wl, absorbance)\n",
    "        a0=sf(wl0)\n",
    "        par_init_vals=[a0,0.02,0.01]                                  # for [a0,S,K]\n",
    "        par_bounds= ([0, 0, -Inf], [max(y), 1, Inf])                  # for [a0,S,K]\n",
    "\n",
    "        #1. Find out the best exponential fit to the data \n",
    "        popt,pcov=sp.optimize.curve_fit(lambda x,a0,S,K: a0*exp(-S*(x-wl0))+K,  x, y, p0 = par_init_vals, bounds = par_bounds, maxfev = 600) # scipy.optimize.curve_fit uses non-linear least squares to fit a function, f, to data; bounds to constrain the optimization to the region indicated by the lower and upper limit of the a0, S, K parameters; maxfev specifies how many times the parameters for the model that we are trying to fit are allowed to be altered\n",
    "        #print('popt a0,S,K:',popt)                                   # the best-fit parameters.\n",
    "        a0=round(popt[0],3)                                           # round the parameter to three digits\n",
    "        S=round(popt[1],3)\n",
    "        K=round(popt[2],3)    \n",
    "        empty_matrix[i, :] = popt\n",
    "        #print(empty_matrix)\n",
    "        #print('pcov',pcov)                                           # the estimated covariance of popt. The diagonals provide the variance of the parameter estimate. \n",
    "        perr = np.sqrt(np.diag(pcov))                                 # compute one standard deviation errors on the parameters\n",
    "        #print('perr a0,S,K:',perr)\n",
    "        a0_std=round(perr[0],3)                                       # round the parameter to three digits\n",
    "        S_std=round(perr[1],3)\n",
    "        K_std=round(perr[2],3)\n",
    "        empty_matrix_2[i, :] = perr\n",
    "        #print(empty_matrix_2)\n",
    "\n",
    "    names = [_ for _ in 'aSK']\n",
    "    exp_par = pd.DataFrame(empty_matrix, index=headers, columns=names) # all the headers, excluding the \"wl\" header\n",
    "    #print(exp_par)\n",
    "    exp_par_no_zero = exp_par[exp_par['S'] != 0]                       # keep only rows in which S is different from zero \n",
    "    print('Optimised parameters:', '\\n', exp_par_no_zero)\n",
    "    \n",
    "    names_std = [_ for _ in 'aSK']\n",
    "    exp_par_std = pd.DataFrame(empty_matrix_2,index=headers,columns=names_std) \n",
    "    #print(exp_par_std)\n",
    "    exp_par_std_no_zero = exp_par_std[exp_par_std['S'] != 0]           # keep only rows in which S is different from zero \n",
    "    print('One standard deviation errors on parameters:', '\\n', exp_par_std_no_zero)\n",
    "    \n",
    "    df_out1 = exp_par_no_zero\n",
    "    df_out2 = exp_par_std_no_zero \n",
    "    return(df_out1, df_out2) "
   ]
  },
  {
   "cell_type": "code",
   "execution_count": null,
   "metadata": {},
   "outputs": [],
   "source": [
    "exp_par_no_zero, exp_par_std_no_zero = abs_fit_exponential(df, startwl, endwl, wl0, S_f)\n",
    "exp_par_no_zero[1:].to_csv(output +'exp_fit_' + str(sample_name) + '_' + str(wl0) + '_' + str(S_f) +'.csv', index = True, sep = ';')\n",
    "exp_par_std_no_zero[1:].to_csv(output + 'exp_fit_std_' + str(sample_name) + '_' + str(wl0) + '_' + str(S_f) +'.csv', index = True, sep =';')     "
   ]
  },
  {
   "cell_type": "code",
   "execution_count": null,
   "metadata": {},
   "outputs": [],
   "source": [
    "abspy.abs_fit_exponential_plot(df, output, dateparsingformat, date_interesting, startwl, endwl, wl0)"
   ]
  }
 ],
 "metadata": {
  "kernelspec": {
   "display_name": "Python 3",
   "language": "python",
   "name": "python3"
  },
  "language_info": {
   "codemirror_mode": {
    "name": "ipython",
    "version": 3
   },
   "file_extension": ".py",
   "mimetype": "text/x-python",
   "name": "python",
   "nbconvert_exporter": "python",
   "pygments_lexer": "ipython3",
   "version": "3.7.4"
  }
 },
 "nbformat": 4,
 "nbformat_minor": 4
}
