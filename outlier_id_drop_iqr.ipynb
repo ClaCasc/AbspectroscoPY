{
 "cells": [
  {
   "cell_type": "markdown",
   "metadata": {},
   "source": [
    "### User input"
   ]
  },
  {
   "cell_type": "code",
   "execution_count": null,
   "metadata": {},
   "outputs": [],
   "source": [
    "decimal = '.'                                                         # decimal of the input file\n",
    "sep = ';'                                                             # separator of the input file\n",
    "input_dir = 'C:/Users/cace0002/AbspectroscoPY/results/df_sr_sw_1.csv' # input directory\n",
    "output = 'C:/Users/cace0002/AbspectroscoPY/results/'                  # output directory\n",
    "dateheadername = 'Timestamp'                                          # header of the date  \n",
    "header = 0                                                            # header row number\n",
    "dateparsingformat = '%Y-%m-%d %H:%M:%S'                               # format of the date \n",
    "sample_name = 'sw'                                                    # name of the sample\n",
    "\n",
    "splitstrs = ['2018-11-19 00:00:00', '2018-11-24 12:00:00']            # specify the dates you want to use to split the dataset in periods\n",
    "\n",
    "timestart = '2018-11-13 05:02:00'                                     # starting date\n",
    "timeend = '2018-12-04 08:44:00'                                       # ending date\n",
    "\n",
    "\n",
    "#To plot the time series of slope ratio, the user can modify:\n",
    "sr_col = 'SR'                                                         # column to plot\n",
    "fig_format = '.tiff'                                                  # format of the exported figure\n",
    "dpi = 300                                                             # resolution of the exported figure"
   ]
  },
  {
   "cell_type": "markdown",
   "metadata": {},
   "source": [
    "### Start environment and import data"
   ]
  },
  {
   "cell_type": "code",
   "execution_count": null,
   "metadata": {},
   "outputs": [],
   "source": [
    "output_outliers = output + '/sr_periods_outliers/'               # create a new folder that will include the outlier files\n",
    "output_no_outliers = output + '/sr_periods_no_outliers/'         # create a new folder that will include the files without outliers\n",
    "import os\n",
    "if not os.path.exists(output_outliers): \n",
    "    os.mkdir(output_outliers)\n",
    "if not os.path.exists(output_no_outliers): \n",
    "    os.mkdir(output_no_outliers)"
   ]
  },
  {
   "cell_type": "code",
   "execution_count": null,
   "metadata": {},
   "outputs": [],
   "source": [
    "import abspectroscopy_functions as abspy # Functions from the AbspectroscoPY toolbox\n",
    "import pandas as pd\n",
    "import numpy as np\n",
    "import matplotlib.pyplot as plt\n",
    "import matplotlib.dates as mdates\n",
    "from matplotlib.ticker import (MultipleLocator, FormatStrFormatter, AutoMinorLocator)\n",
    "from datetime import datetime as dt\n",
    "import glob\n",
    "\n",
    "df = pd.read_csv(input_dir, sep = sep, header = header, index_col = 0) \n",
    "df.index = pd.to_datetime(df.index)       # make sure time column (here index) is using time format\n",
    "df"
   ]
  },
  {
   "cell_type": "markdown",
   "metadata": {},
   "source": [
    "### outlier_id_drop_iqr"
   ]
  },
  {
   "cell_type": "code",
   "execution_count": null,
   "metadata": {},
   "outputs": [],
   "source": [
    "def outlier_id_drop_iqr(df_in, \n",
    "                        output_dir1,\n",
    "                        output_dir2,\n",
    "                        splitstrings,\n",
    "                        timestart, \n",
    "                        timeend,\n",
    "                        dateparsingformat,\n",
    "                        label_name):\n",
    "    '''\n",
    "    function to split the slope ratio dataframe in different periods and identify the outliers on the basis of the interquartile range in  these periods \n",
    "    :argument df_in: dataframe in input\n",
    "    :argument output_dir1: directory where storing the dataframe without outliers\n",
    "    :argument output_dir2: directory where storing the outliers\n",
    "    :argument splitstrings: dates to use to split the dataset in periods\n",
    "    :argument timestart, timeend: starting and ending date\n",
    "    :argument dateparsingformat: format of the dates \n",
    "    :argument label_name: sample name    \n",
    "    :return: the slope ratio dataframe in different periods (dflist), lower and upper limits of the interquartile range used\n",
    "    to detect the outliers (out1) and the outlier percentage (out2)    \n",
    "    '''\n",
    "    ### SPLIT THE DATAFRAME INTO DIFFERENT PERIODS\n",
    "    splitstrs2 = splitstrings.copy()\n",
    "    splitstrs2.insert(0,timestart)                                    # add start and end dates to the dates we want to use to split the periods\n",
    "    splitstrs2.append(timeend)\n",
    "    split_date = [dt.strptime(splitdates,dateparsingformat) for splitdates in splitstrs2] # convert to datetime format\n",
    "    #print('dates used to split the dataframe in periods: ', splitstrs)\n",
    "    nperiods = len(splitstrs2) - 1   \n",
    "    dflist = []                                                       # create an empty list \n",
    "    for i in range(nperiods):                                         # append the dataframes obtained for each period to the empty list  \n",
    "        df_periods = df_in.loc[(df_in.index >= split_date[i]) & (df_in.index < split_date[i+1])]\n",
    "        #print('period '+ str(i+1) + ': ' + dt.strftime(split_date[i], dateparsingformat) + ' - ' + dt.strftime(split_date[i+1], dateparsingformat))\n",
    "        dflist.append(df_periods)\n",
    "\n",
    "    ### CALCULATE LOWER AND UPPER LIMITS OF THE INTERQUARTILE RANGE\n",
    "\n",
    "    out1 = pd.DataFrame(columns=['low_lim','up_lim'])                 # create an empty table with two columns and the same number of rows as the periods and fill it with NA\n",
    "    out1['low_lim'] = np.repeat('NA', nperiods, axis = 0)             # rename the two columns\n",
    "    out1['up_lim'] =  np.repeat('NA', nperiods, axis = 0)\n",
    "\n",
    "    for i in range(nperiods):                                         # for each period: \n",
    "        df = dflist[i]\n",
    "        q1 = np.percentile(df['SR'], 25, interpolation = 'midpoint')  # calculate the quartiles Q1, Q2, Q3\n",
    "        q2 = np.percentile(df['SR'], 50, interpolation = 'midpoint')\n",
    "        q3 = np.percentile(df['SR'], 75, interpolation = 'midpoint')\n",
    "        iqr = q3-q1                                                   # calculate the interquartile range IQR\n",
    "        low_lim = q1 - 1.5 * iqr                                      # find the lower and upper limits \n",
    "        up_lim = q3 + 1.5 * iqr\n",
    "        out1['low_lim'] [i] = low_lim                                 # get all the lower and upper limits in the empty table\n",
    "        out1['up_lim'] [i] = up_lim \n",
    "\n",
    "    ### CALCULATE OUTLIER PERCENTAGES\n",
    "\n",
    "    out2 = pd.DataFrame(columns=['number_outliers','outliers (%)'])   # create an empty table with two columns and the same number of rows as the periods and fill it with NA                \n",
    "    out2['number_outliers'] = np.repeat('NA', nperiods, axis=0)       # rename the two columns\n",
    "    out2['outliers (%)'] = np.repeat('NA', nperiods, axis=0)\n",
    "\n",
    "    dflist_noout = []                   # create an empty list \n",
    "    for i in range(nperiods):                                         # for each period:  \n",
    "        df = dflist[i]   \n",
    "        df_noout = df[(df_in.SR > out1['low_lim'][i]) & (df.SR < out1['up_lim'][i])] # remove SR values lower than the lower limit and greater than the upper limit (= outliers)\n",
    "        ntot = len(df)                                                # number of measurements\n",
    "        df_out = df[(df.SR < out1['low_lim'][i]) | (df.SR > out1['up_lim'][i])] # find out which SR values are lower than the lower limit and greater than the upper limit (= outliers)\n",
    "        nout = len(df_out)                                            # number of outliers\n",
    "        out2['number_outliers'] [i] = nout                            # get the number of outliers in a table together with its relative percentage                             \n",
    "        out2['outliers (%)'] [i] = nout/ntot * 100 \n",
    "        df_noout.to_csv(output_dir1 + 'df_sr_' + str(label_name) + '_' + '1_no_outliers' + str(i) + '.csv', sep=sep, decimal=decimal, index=True)                                                           # save the not outliers for the different datasets   \n",
    "        df_out.to_csv(output_dir2 + 'df_sr_' + str(label_name) + '_' + '1_outliers' + str(i) + '.csv', sep=sep, decimal=decimal, index=True)                                                           # save the outliers for the different datasets  \n",
    "        dflist_noout.append(df_noout)\n",
    "\n",
    "    return(dflist, out1, out2)"
   ]
  },
  {
   "cell_type": "code",
   "execution_count": null,
   "metadata": {},
   "outputs": [],
   "source": [
    "dflist, out1, out2 = outlier_id_drop_iqr(df, output_no_outliers, output_outliers, splitstrs, timestart, timeend, dateparsingformat, sample_name)\n",
    "print('Lower and upper limits of the interquartile range:', '\\n', out1, '\\n', 'outlier percentage:', out2)"
   ]
  },
  {
   "cell_type": "code",
   "execution_count": null,
   "metadata": {},
   "outputs": [],
   "source": [
    "abspy.makeaoutplot(dflist, output_no_outliers, output, sr_col, timestart, timeend, dateparsingformat, splitstrs, sample_name)"
   ]
  }
 ],
 "metadata": {
  "kernelspec": {
   "display_name": "Python 3",
   "language": "python",
   "name": "python3"
  },
  "language_info": {
   "codemirror_mode": {
    "name": "ipython",
    "version": 3
   },
   "file_extension": ".py",
   "mimetype": "text/x-python",
   "name": "python",
   "nbconvert_exporter": "python",
   "pygments_lexer": "ipython3",
   "version": "3.7.4"
  }
 },
 "nbformat": 4,
 "nbformat_minor": 4
}
