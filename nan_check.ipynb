{
 "cells": [
  {
   "cell_type": "markdown",
   "metadata": {},
   "source": [
    "### User input"
   ]
  },
  {
   "cell_type": "code",
   "execution_count": null,
   "metadata": {},
   "outputs": [],
   "source": [
    "decimal='.'                                                               # decimal of the input file\n",
    "sep=';'                                                                   # separator of the input file\n",
    "\n",
    "from config import *                                                      # Personal settings of local user to set input and output directories\n",
    "input_dir = input_directory + 'results/df_dtypecor_sw.csv'                # input directory\n",
    "output = output_directory + 'results/'                                    # output directory\n",
    "\n",
    "dateheadername = 'Timestamp'                                              # header of the date  \n",
    "header = 0                                                                # header row number\n",
    "sample_name = 'sw'                                                        # name of the sample"
   ]
  },
  {
   "cell_type": "markdown",
   "metadata": {},
   "source": [
    "### Start environment and import data"
   ]
  },
  {
   "cell_type": "code",
   "execution_count": null,
   "metadata": {},
   "outputs": [],
   "source": [
    "import abspectroscopy_functions as abspy # Functions from the AbspectroscoPY toolbox\n",
    "import pandas as pd\n",
    "\n",
    "df = pd.read_csv(input_dir, sep = sep, header = header, index_col = 0) \n",
    "df"
   ]
  },
  {
   "cell_type": "markdown",
   "metadata": {},
   "source": [
    "### Remove missing data before applying nan_check"
   ]
  },
  {
   "cell_type": "code",
   "execution_count": null,
   "metadata": {},
   "outputs": [],
   "source": [
    "df = df.drop(df[df.isnull().all(axis=1)].index)  # drop rows containing only missing data\n",
    "df = df.dropna(axis=1, how='all', inplace=False) # drop columns containing only missing data\n",
    "#df"
   ]
  },
  {
   "cell_type": "markdown",
   "metadata": {},
   "source": [
    "### nan_check"
   ]
  },
  {
   "cell_type": "code",
   "execution_count": null,
   "metadata": {},
   "outputs": [],
   "source": [
    "def nan_check(df_in, \n",
    "              dateheadername):\n",
    "    '''\n",
    "    function to quantify missing data per column and per row in percentage\n",
    "    :argument df_in: dataframe in input\n",
    "    :argument dateheadername: name of the date column\n",
    "    :return: two dataframes with percentages of missing data per column and row\n",
    "    '''    \n",
    "    df_in = df_in.reset_index()\n",
    "    nan_col = df_in.isnull().sum()           # check missing data per column\n",
    "    rownr = len(df_in)  \n",
    "    df_out1 = df_in.isnull().sum()/rownr*100 # check missing data per column in percentage\n",
    "    nan_row = pd.DataFrame(columns=[dateheadername,'missing data'])\n",
    "    colnr = len(df_in.columns)    \n",
    "    for i in range(rownr):                   # check missing data per row\n",
    "        nan_per_row = pd.DataFrame([[df_in[dateheadername][i], df_in.iloc[i].isnull().sum()]], columns=[dateheadername,'missing data'])\n",
    "        nan_row = nan_row.append(nan_per_row)     \n",
    "    nan_row.set_index(dateheadername, inplace = True)\n",
    "    df_out2 = nan_row/colnr*100\n",
    "    return(df_out1, df_out2)"
   ]
  },
  {
   "cell_type": "code",
   "execution_count": null,
   "metadata": {},
   "outputs": [],
   "source": [
    "nan_colper, nan_rowper = nan_check(df, dateheadername)\n",
    "nan_colper.to_csv(output + 'missing_data_per_column_percent.csv', sep = sep, decimal = decimal, index=True) # export the missing data per column and row as percentage\n",
    "nan_rowper.to_csv(output + 'missing_data_per_row_percent.csv', sep = sep, decimal = decimal, index=True)\n",
    "nan_colper, nan_rowper"
   ]
  },
  {
   "cell_type": "code",
   "execution_count": null,
   "metadata": {},
   "outputs": [],
   "source": [
    "df.to_csv(output + 'df_nonan_' + str(sample_name) + '.csv', sep = sep, decimal = decimal, index=True) # export the dataframe without missing data\n",
    "#df"
   ]
  }
 ],
 "metadata": {
  "kernelspec": {
   "display_name": "Python 3",
   "language": "python",
   "name": "python3"
  },
  "language_info": {
   "codemirror_mode": {
    "name": "ipython",
    "version": 3
   },
   "file_extension": ".py",
   "mimetype": "text/x-python",
   "name": "python",
   "nbconvert_exporter": "python",
   "pygments_lexer": "ipython3",
   "version": "3.7.4"
  }
 },
 "nbformat": 4,
 "nbformat_minor": 4
}
