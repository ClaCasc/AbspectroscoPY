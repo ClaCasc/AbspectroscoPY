{
 "cells": [
  {
   "cell_type": "markdown",
   "metadata": {},
   "source": [
    "### User input"
   ]
  },
  {
   "cell_type": "code",
   "execution_count": null,
   "metadata": {},
   "outputs": [],
   "source": [
    "decimal = '.'                                                            # decimal of the input file\n",
    "sep = ';'                                                                # separator of the input file\n",
    "input_dir = 'C:/Users/cace0002/AbspectroscoPY/results/df_nonan_sw.csv'   # input directory\n",
    "output = 'C:/Users/cace0002/AbspectroscoPY/results/'                     # output directory\n",
    "dateheadername = 'Timestamp'                                             # header of the date  \n",
    "header = 0                                                               # header row number\n",
    "sample_name = 'sw'                                                       # name of the sample\n",
    "\n",
    "#To plot the duplicates, the user can modify:\n",
    "col_sel = '220 nm'                                                       # column to plot\n",
    "timestart = '2018-11-12 16:04:00'                                        # starting date\n",
    "timeend = '2018-12-03 20:44:00'                                          # ending date\n",
    "title =  'duplicates_'                                                   # title of the exported figure\n",
    "fig_format = '.tiff'                                                     # format of the exported figure\n",
    "dpi = 300                                                                # resolution of the exported figure"
   ]
  },
  {
   "cell_type": "markdown",
   "metadata": {},
   "source": [
    "### Start environment and import data"
   ]
  },
  {
   "cell_type": "code",
   "execution_count": null,
   "metadata": {},
   "outputs": [],
   "source": [
    "import abspectroscopy_functions as abspy # Functions from the AbspectroscoPY toolbox\n",
    "import pandas as pd\n",
    "import matplotlib.pyplot as plt\n",
    "import matplotlib.dates as mdates\n",
    "from matplotlib.ticker import (MultipleLocator, FormatStrFormatter, AutoMinorLocator)\n",
    "\n",
    "df = pd.read_csv(input_dir, sep = sep, header = header, index_col = 0)\n",
    "df.index = pd.to_datetime(df.index)      # make sure time column (here index) is using time format\n",
    "df"
   ]
  },
  {
   "cell_type": "markdown",
   "metadata": {},
   "source": [
    "### dup_check"
   ]
  },
  {
   "cell_type": "code",
   "execution_count": null,
   "metadata": {},
   "outputs": [],
   "source": [
    "def dup_check(df_in,\n",
    "             dateheadername):\n",
    "    '''\n",
    "    function to check and plot duplicates\n",
    "    :argument df_in: dataframe in input\n",
    "    :argument dateheadername: name of the date column\n",
    "    :return: two dataframes with duplicates by dateheadername and by all columns\n",
    "    '''    \n",
    "    df_out1 = df_in[df_in.index.duplicated(keep=False)] # check for duplicates by dateheadername     \n",
    "    df_out2 = df_in[df_in.duplicated()]                 # check for duplicates by all the columns and report them once \n",
    "    return(df_out1, df_out2)     "
   ]
  },
  {
   "cell_type": "code",
   "execution_count": null,
   "metadata": {},
   "outputs": [],
   "source": [
    "df_dup, df_dup_all = dup_check(df, dateheadername)\n",
    "df_dup_all.to_csv(output + '_duplicates.csv', sep= sep, decimal = decimal, index=False) # export all duplicates"
   ]
  },
  {
   "cell_type": "markdown",
   "metadata": {},
   "source": [
    "### Plot duplicates"
   ]
  },
  {
   "cell_type": "code",
   "execution_count": null,
   "metadata": {},
   "outputs": [],
   "source": [
    "abspy.makeaplot(df_dup_all, output, col_sel, timestart, timeend, sample_name, title) # Run twice if the plot looks too small"
   ]
  },
  {
   "cell_type": "markdown",
   "metadata": {},
   "source": [
    "### Drop duplicates"
   ]
  },
  {
   "cell_type": "code",
   "execution_count": null,
   "metadata": {},
   "outputs": [],
   "source": [
    "df_nodupall = df.drop_duplicates(subset = None, keep = \"first\", inplace = False)                               # drop second duplicate by all columns\n",
    "df_nodupall.to_csv(output + 'df_nodup_' + str(sample_name) + '.csv', sep = sep, decimal = decimal, index=True) # export the dataframe\n",
    "#df_nodupall"
   ]
  }
 ],
 "metadata": {
  "kernelspec": {
   "display_name": "Python 3",
   "language": "python",
   "name": "python3"
  },
  "language_info": {
   "codemirror_mode": {
    "name": "ipython",
    "version": 3
   },
   "file_extension": ".py",
   "mimetype": "text/x-python",
   "name": "python",
   "nbconvert_exporter": "python",
   "pygments_lexer": "ipython3",
   "version": "3.7.4"
  }
 },
 "nbformat": 4,
 "nbformat_minor": 4
}
