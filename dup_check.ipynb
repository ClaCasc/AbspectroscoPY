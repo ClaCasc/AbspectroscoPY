{
 "cells": [
  {
   "cell_type": "markdown",
   "metadata": {},
   "source": [
    "### User input"
   ]
  },
  {
   "cell_type": "code",
   "execution_count": null,
   "metadata": {},
   "outputs": [],
   "source": [
    "decimal = '.'                                                            # decimal of the input file\n",
    "sep = ';'                                                                # separator of the input file\n",
    "\n",
    "from config import *                                                     # Personal settings of local user to set input and output directories\n",
    "input_dir = input_directory + 'results/df_nonan_sw.csv'                  # input directory\n",
    "output = output_directory + 'results/'                                   # output directory\n",
    "\n",
    "dateheadername = 'Timestamp'                                             # header of the date  \n",
    "header = 0                                                               # header row number\n",
    "sample_name = 'sw'                                                       # name of the sample\n",
    "\n",
    "#To plot the duplicates, the user can modify:\n",
    "col_sel = '220 nm'                                                       # column to plot\n",
    "timestart = '2018-11-12 16:04:00'                                        # starting date\n",
    "timeend = '2018-12-03 20:44:00'                                          # ending date\n",
    "title =  'duplicates_'                                                   # title of the exported figure\n",
    "fig_format = '.tiff'                                                     # format of the exported figure\n",
    "dpi = 300                                                                # resolution of the exported figure"
   ]
  },
  {
   "cell_type": "markdown",
   "metadata": {},
   "source": [
    "### Start environment and import data"
   ]
  },
  {
   "cell_type": "code",
   "execution_count": null,
   "metadata": {},
   "outputs": [],
   "source": [
    "import abspectroscopy_functions as abspy # Functions from the AbspectroscoPY toolbox\n",
    "import pandas as pd\n",
    "import matplotlib.pyplot as plt\n",
    "import matplotlib.dates as mdates\n",
    "from matplotlib.ticker import (MultipleLocator, FormatStrFormatter, AutoMinorLocator)\n",
    "\n",
    "df = pd.read_csv(input_dir, sep = sep, header = header, index_col = 0)\n",
    "df.index = pd.to_datetime(df.index)      # make sure time column (here index) is using time format\n",
    "df"
   ]
  },
  {
   "cell_type": "markdown",
   "metadata": {},
   "source": [
    "### dup_check"
   ]
  },
  {
   "cell_type": "code",
   "execution_count": null,
   "metadata": {},
   "outputs": [],
   "source": [
    "def dup_check(df_in,\n",
    "             dateheadername):\n",
    "    '''\n",
    "    function to check and plot duplicates\n",
    "    :argument df_in: dataframe in input\n",
    "    :argument dateheadername: name of the date column\n",
    "    :return: two dataframes with duplicates by dateheadername and by all columns\n",
    "    '''    \n",
    "    df_out1 = df_in.copy()\n",
    "    df_out1 = df_in[df_in.duplicated()]                                              # check for duplicates by all columns (which could include also data when DST reverts to STD, in case they have an identical value)\n",
    "    print('The sensor has the following duplicates by all the columns:', df_out1)\n",
    "\n",
    "    df_out2 = df_in.copy()\n",
    "    df_out2 = df_out2.drop_duplicates(subset = None, keep = \"first\", inplace = False)# drop second duplicate by all columns\n",
    "    df_out3 = df_out2.copy()\n",
    "    df_out3 = df_out3[(df_out3.duplicated(subset = [dateheadername], keep = 'first'))]# check for duplicates by dateheadername (e.g. DST)     \n",
    "    if df_out3.empty == True:\n",
    "        print('The sensor takes into account the DST (the data are continuous): there is no risk to drop real measurements when dropping duplicates only by dateheadername')\n",
    "    else:\n",
    "        print('Check if the sensor does not take into account the DST (i.e., it follows the clock, and therefore duplicates by datetime appear when DST reverts to STD): consider if to drop real measurements', df_out3)\n",
    "    return(df_out1, df_out2, df_out3)   "
   ]
  },
  {
   "cell_type": "code",
   "execution_count": null,
   "metadata": {},
   "outputs": [],
   "source": [
    "df_dup = df.reset_index()\n",
    "df_dup_all, df_nodup_all, df_dupdst = dup_check(df_dup, dateheadername)\n",
    "df_dup_all.to_csv(output + 'duplicates_allcol_' + str(sample_name) + '.csv', sep = sep, decimal = decimal, index=False) # export duplicates by all columns\n",
    "df_dupdst.to_csv(output + 'duplicates_dst_' + str(sample_name) + '.csv', sep = sep, decimal = decimal, index=False)    # export duplicates probably linked to DST reverting to STD df_dup\n",
    "df_dup_all = df_dup_all.set_index('Timestamp') "
   ]
  },
  {
   "cell_type": "markdown",
   "metadata": {},
   "source": [
    "### Plot duplicates"
   ]
  },
  {
   "cell_type": "code",
   "execution_count": null,
   "metadata": {},
   "outputs": [],
   "source": [
    "#%matplotlib inline # necessary if the notebook is not configured to use the inline backend by default\n",
    "%matplotlib notebook\n",
    "plt.ion()\n",
    "abspy.makeaplot(df_dup_all, output, col_sel, timestart, timeend, sample_name, title) # Run twice if the plot looks too small"
   ]
  },
  {
   "cell_type": "markdown",
   "metadata": {},
   "source": [
    "### Drop duplicates"
   ]
  },
  {
   "cell_type": "code",
   "execution_count": null,
   "metadata": {},
   "outputs": [],
   "source": [
    "def dup_drop(df_in1,\n",
    "             df_in2,   \n",
    "             output_dir,\n",
    "             dateheadername,\n",
    "             samplename\n",
    "             ):\n",
    "    '''\n",
    "    function to drop duplicates\n",
    "    :argument df_in1: dataframe in input with no duplicates by all columns\n",
    "    :argument df_in2: dataframe in input with duplicates probably linked to DST reverting to STD\n",
    "    :argument output_dir: directory where storing the results\n",
    "    :argument dateheadername: name of the date column\n",
    "    :argument samplename: name of the file\n",
    "    :return: one dataframe without duplicates by all columns and with or without duplicates probably linked to DST reverting to STD\n",
    "    '''      \n",
    "    answer = input()\n",
    "    if answer == 'yes':\n",
    "        df_out = df_in1.copy()\n",
    "        idx_dst = df_in2.index                                                                                         # index of duplicates by headername \n",
    "        df_out = df_out[~df_out.index.isin(idx_dst)]                                                                   # remove these duplicates\n",
    "        df_out = df_out.set_index(dateheadername)\n",
    "        df_out.to_csv(output_dir + 'df_nodup_' + str(samplename) + '.csv', sep = sep, decimal = decimal, index=True)   # export the dataframe with no duplicates   \n",
    "    elif answer == 'no':\n",
    "        df_out = df_in1.copy()\n",
    "        df_out = df_out.set_index(dateheadername)\n",
    "        df_out.to_csv(output_dir + 'df_nodupall_' + str(samplename) + '.csv', sep = sep, decimal = decimal, index=True) # export the dataframe with no complete duplicates\n",
    "    else:\n",
    "        root = tk.Tk()\n",
    "        root.withdraw()\n",
    "        root.attributes(\"-topmost\", True)\n",
    "\n",
    "        MsgBox = tk.messagebox.showerror ('Error','You are not providing one of the two possible answers. Please input \"yes\" or \"no\".',icon = 'error')\n",
    "        root.destroy()       \n",
    "    return(df_out)"
   ]
  },
  {
   "cell_type": "code",
   "execution_count": null,
   "metadata": {},
   "outputs": [],
   "source": [
    "df_nodup = df_nodup_all.copy() # this dataframe is the result of dropping duplicates by all columns: \n",
    "                              # consider if to drop real measurements due to DST reverting to STD\n",
    "df_nodup = dup_drop(df_nodup, df_dupdst, output, dateheadername, sample_name)\n",
    "df_nodup"
   ]
  }
 ],
 "metadata": {
  "kernelspec": {
   "display_name": "Python 3 (ipykernel)",
   "language": "python",
   "name": "python3"
  },
  "language_info": {
   "codemirror_mode": {
    "name": "ipython",
    "version": 3
   },
   "file_extension": ".py",
   "mimetype": "text/x-python",
   "name": "python",
   "nbconvert_exporter": "python",
   "pygments_lexer": "ipython3",
   "version": "3.9.7"
  }
 },
 "nbformat": 4,
 "nbformat_minor": 4
}
