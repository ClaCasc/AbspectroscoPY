{
 "cells": [
  {
   "cell_type": "markdown",
   "metadata": {},
   "source": [
    "### User input"
   ]
  },
  {
   "cell_type": "code",
   "execution_count": null,
   "metadata": {},
   "outputs": [],
   "source": [
    "decimal = '.'                                                                # decimal of the input file\n",
    "sep = ';'                                                                    # separator of the input file\n",
    "\n",
    "from config import *                                                         # Personal settings of local user to set input and output directories\n",
    "input_dir = input_directory + 'results/df_baselinecor_sw.csv'                # input directory\n",
    "output = output_directory + 'results/'                                       # output directory\n",
    "\n",
    "dateheadername = 'Timestamp'                                                 # header of the date  \n",
    "header = 0                                                                   # header row number\n",
    "sample_name = 'sw'                                                           # name of the sample\n",
    "\n",
    "# Specify the window sizes of the median filters and the sampling frequency:\n",
    "median_window1_min = 14\n",
    "median_window2_min = 30\n",
    "median_window3_min = 60\n",
    "median_window_min_selected = median_window3_min\n",
    "\n",
    "sample_frequency_min = 2\n",
    "\n",
    "# To plot the time series of absorbance data using different median filters, the user can modify:\n",
    "col_sel = '255 nm'                                                           # select a specific wavelength to plot\n",
    "timestart = '2018-11-13 04:32:00'                                            # starting time and ending time\n",
    "timeend =   '2018-12-04 09:12:00'                                \n",
    "fig_format = '.tiff'                                                         # format of the exported figure\n",
    "dpi = 300                                                                    # resolution of the exported figure"
   ]
  },
  {
   "cell_type": "markdown",
   "metadata": {},
   "source": [
    "### Start environment and import data"
   ]
  },
  {
   "cell_type": "code",
   "execution_count": null,
   "metadata": {},
   "outputs": [],
   "source": [
    "import abspectroscopy_functions as abspy # Functions from the AbspectroscoPY toolbox\n",
    "import pandas as pd\n",
    "import matplotlib.pyplot as plt\n",
    "import matplotlib.dates as mdates\n",
    "from matplotlib.ticker import (MultipleLocator, FormatStrFormatter, AutoMinorLocator)\n",
    "\n",
    "df = pd.read_csv(input_dir, sep = sep, header = header, index_col = 0) \n",
    "df.index = pd.to_datetime(df.index)      # make sure time column (here index) is using time format\n",
    "df"
   ]
  },
  {
   "cell_type": "markdown",
   "metadata": {},
   "source": [
    "### Test different window sizes of the median filter: rolling"
   ]
  },
  {
   "cell_type": "code",
   "execution_count": null,
   "metadata": {},
   "outputs": [],
   "source": [
    "df_bc = df.copy()\n",
    "median_window1 = median_window1_min / sample_frequency_min # median window from minute to number of samples\n",
    "median_window2 = median_window2_min / sample_frequency_min\n",
    "median_window3 = median_window3_min / sample_frequency_min\n",
    "median_window_selected = median_window_min_selected / sample_frequency_min\n",
    "print('number of samples for window 1:', median_window1)\n",
    "print('number of samples for window 2:', median_window2)\n",
    "print('number of samples for window 3:', median_window3)\n",
    "print('number of samples for window selected:', median_window_selected)\n",
    "\n",
    "df_median1 = df_bc.copy()\n",
    "median_window1_int=int(median_window1)\n",
    "df_median1 = df_median1.rolling(median_window1_int, center=True, axis=0).median()# compute the rolling median of the absorbance series\n",
    "df_median1 = df_median1.dropna(axis=0)                                           # drop rows with NaN due to rolling median calculation\n",
    "\n",
    "df_median2 = df_bc.copy()\n",
    "median_window2_int=int(median_window2)\n",
    "df_median2 = df_median2.rolling(median_window2_int, center=True, axis=0).median()\n",
    "df_median2 = df_median2.dropna(axis=0) \n",
    "\n",
    "df_median3 = df_bc.copy()\n",
    "median_window3_int=int(median_window3)\n",
    "df_median3 = df_median3.rolling(median_window3_int, center=True, axis=0).median()\n",
    "df_median3 = df_median3.dropna(axis=0)"
   ]
  },
  {
   "cell_type": "code",
   "execution_count": null,
   "metadata": {
    "scrolled": true
   },
   "outputs": [],
   "source": [
    "#%matplotlib inline # necessary if the notebook is not configured to use the inline backend by default\n",
    "%matplotlib notebook\n",
    "plt.ion()\n",
    "abspy.makerollplot(df_median1, df_median2, df_median3, output, col_sel, timestart, timeend, sample_name)"
   ]
  },
  {
   "cell_type": "markdown",
   "metadata": {},
   "source": [
    "### Select a window size of the median filter"
   ]
  },
  {
   "cell_type": "code",
   "execution_count": null,
   "metadata": {},
   "outputs": [],
   "source": [
    "df_median_selected = df_bc.copy()\n",
    "median_window_selected_int=int(median_window_selected)\n",
    "df_median_selected = df_median_selected.rolling(median_window_selected_int, center=True, axis=0).median()\n",
    "df_median_selected = df_median_selected.dropna(axis=0) \n",
    "df_median_selected.to_csv(output + 'df_mediancor_' + str(sample_name) + '_' + str(median_window_selected) + '.csv', sep = sep, decimal = decimal, index=True) # export the median filtered dataframe\n",
    "df_median_selected"
   ]
  }
 ],
 "metadata": {
  "kernelspec": {
   "display_name": "Python 3",
   "language": "python",
   "name": "python3"
  },
  "language_info": {
   "codemirror_mode": {
    "name": "ipython",
    "version": 3
   },
   "file_extension": ".py",
   "mimetype": "text/x-python",
   "name": "python",
   "nbconvert_exporter": "python",
   "pygments_lexer": "ipython3",
   "version": "3.7.4"
  }
 },
 "nbformat": 4,
 "nbformat_minor": 4
}
