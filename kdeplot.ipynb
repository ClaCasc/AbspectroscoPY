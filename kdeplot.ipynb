{
 "cells": [
  {
   "cell_type": "markdown",
   "metadata": {},
   "source": [
    "### User input"
   ]
  },
  {
   "cell_type": "code",
   "execution_count": null,
   "metadata": {},
   "outputs": [],
   "source": [
    "decimal = '.'                                                                   # decimal of the input file\n",
    "sep = ';'                                                                       # separator of the input file\n",
    "\n",
    "from config import *                                                            # Personal settings of local user to set input and output directories\n",
    "input_dir = input_directory + 'results/df_mediancor_sw_30.0.csv'                # input directory\n",
    "output = output_directory + 'results/'                                          # output directory\n",
    "\n",
    "dateheadername = 'Timestamp'                                                    # header of the date  \n",
    "header = 0                                                                      # header row number\n",
    "sample_name = 'sw'                                                              # name of the sample\n",
    "\n",
    "# To get a kde plot, the user can modify:\n",
    "fig_format = '.tiff'                                                            # format of the exported figure\n",
    "dpi = 300                                                                       # resolution of the exported figure"
   ]
  },
  {
   "cell_type": "markdown",
   "metadata": {},
   "source": [
    "### Start environment and import data"
   ]
  },
  {
   "cell_type": "code",
   "execution_count": null,
   "metadata": {},
   "outputs": [],
   "source": [
    "import pandas as pd\n",
    "import matplotlib.pyplot as plt\n",
    "import matplotlib.dates as mdates\n",
    "from matplotlib.ticker import (MultipleLocator, FormatStrFormatter, AutoMinorLocator)\n",
    "import seaborn as sns\n",
    "\n",
    "df = pd.read_csv(input_dir, sep = sep, header = header, index_col = 0) \n",
    "df.index = pd.to_datetime(df.index)               # make sure time column (here index) is using time format\n",
    "df"
   ]
  },
  {
   "cell_type": "markdown",
   "metadata": {},
   "source": [
    "### kdeplot"
   ]
  },
  {
   "cell_type": "code",
   "execution_count": null,
   "metadata": {},
   "outputs": [],
   "source": [
    "def makeakdeplot(df_in, \n",
    "                 output_dir,\n",
    "                 label_name,\n",
    "                 col_sel = None, \n",
    "                 xlabel = None, \n",
    "                 ylabel = None, \n",
    "                 yminlim = None, \n",
    "                 ymaxlim = None, \n",
    "                 ymajlocator = None, \n",
    "                 yminlocator = None):                  \n",
    "    '''\n",
    "    function to get a kde plot\n",
    "    :argument df_in: dataframe in input\n",
    "    :argument output_dir: directory where storing the results\n",
    "    :argument label_name: sample name\n",
    "    :argument col_sel: selected wavelength columns\n",
    "    :argument xlabel, ylabel: x- and y-axes label\n",
    "    :argument yminlim, ymaxlim: y-axis limits\n",
    "    :argument yminlocator, ymajlocator: y-axis major and minor ticks \n",
    "    :return: gaussian kde plot at specific wavelengths\n",
    "    '''\n",
    "    factor = .5\n",
    "    plot_width = 25*factor # define the plot dimensions in inches (width and height)\n",
    "    plot_height = 13*factor\n",
    "        \n",
    "    if col_sel is None:\n",
    "        col_sel = ['255 nm','275 nm','295 nm','350 nm','400 nm','697.5 nm']\n",
    "    for i in col_sel:\n",
    "        sns.kdeplot(df_in[i], kernel='gau') \n",
    "       \n",
    "    if xlabel is None:\n",
    "        xlabel = 'Absorbance [abs m$^{-1}$]'\n",
    "    if  ylabel is None:\n",
    "        ylabel = 'Gaussian KDE [dimesionless]'        \n",
    "    if yminlim is None:\n",
    "        ymin = (df_in[col_sel].min()).min()                                         \n",
    "        yminlim = ymin - 0.05*abs(ymin)\n",
    "    if ymaxlim is None:\n",
    "        ymax = (df_in[col_sel].max()).max()\n",
    "        ymaxlim = ymax + 0.05*abs(ymax) \n",
    "    if ymajlocator is None:\n",
    "        ymajlocator = round((ymaxlim-yminlim)/6,2) \n",
    "    if yminlocator is None:\n",
    "        yminlocator = ymajlocator/3\n",
    "\n",
    "    plt.style.use ('tableau-colorblind10')                                           # use colors colorblind friendly\n",
    "    plt.xlabel(xlabel)                                                               # label the x-axis \n",
    "    plt.ylabel(ylabel)                                                               # label the y-axis \n",
    "    plt.rc('font', family='Arial')                                                   # define the font\n",
    "    plt.rcParams['axes.labelsize'] = 20                                              # define the label size\n",
    "    #plt.rcParams['axes.labelweight'] = 'bold'                                       # define the label weight\n",
    "    plt.gca().tick_params(axis = 'both', which = 'major', length = 5, labelsize = 18)# define the label size of the labels on the axes-ticks (major and minor) and length and color of ticks \n",
    "    plt.gca().tick_params(which = 'minor', length = 4, colors = 'k')\n",
    "    #plt.minorticks_on()                                                              # turn on the minor ticks on both the axes\n",
    "    plt.gca().set_ylim(yminlim,ymaxlim)                                               # define the y-axis range\n",
    "    plt.gca().yaxis.set_major_locator(MultipleLocator(ymajlocator))                   # define the y-axes major and minor ticks \n",
    "    plt.gca().yaxis.set_minor_locator(MultipleLocator(yminlocator))                     \n",
    "\n",
    "    #plt.grid(which='major', linestyle=':', linewidth='1', color='gray')              # define the major grid\n",
    "    #plt.grid(which='minor', linestyle=':', axis = 'x', linewidth='1', color='gray')  # define the minor grid\n",
    "\n",
    "    plt.legend(loc='best', fontsize = 17, markerscale = 2)                            # define the legend \n",
    "                                                                                      \n",
    "    plt.rcParams['figure.figsize'] = (plot_width, plot_height)                        # define the size of the figure\n",
    "    #plt.tight_layout() \n",
    "    fig = plt.gca().get_figure()                                                      # return the figure \n",
    "    fig.savefig(output_dir + 'kde_' + str(label_name) + fig_format, dpi = dpi)        # save the figure to the desired format and resolution"
   ]
  },
  {
   "cell_type": "code",
   "execution_count": null,
   "metadata": {},
   "outputs": [],
   "source": [
    "#%matplotlib inline # necessary if the notebook is not configured to use the inline backend by default\n",
    "%matplotlib notebook\n",
    "plt.ion()\n",
    "makeakdeplot(df, output, sample_name)"
   ]
  }
 ],
 "metadata": {
  "kernelspec": {
   "display_name": "Python 3",
   "language": "python",
   "name": "python3"
  },
  "language_info": {
   "codemirror_mode": {
    "name": "ipython",
    "version": 3
   },
   "file_extension": ".py",
   "mimetype": "text/x-python",
   "name": "python",
   "nbconvert_exporter": "python",
   "pygments_lexer": "ipython3",
   "version": "3.7.4"
  }
 },
 "nbformat": 4,
 "nbformat_minor": 4
}
