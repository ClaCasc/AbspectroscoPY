{
 "cells": [
  {
   "cell_type": "markdown",
   "metadata": {},
   "source": [
    "### User input"
   ]
  },
  {
   "cell_type": "code",
   "execution_count": null,
   "metadata": {},
   "outputs": [],
   "source": [
    "decimal = '.'                                                          # decimal of the input file\n",
    "sep = ';'                                                              # separator of the input file\n",
    "input_dir = 'C:/Users/cace0002/AbspectroscoPY/results/df_nodup_sw.csv' # input directory\n",
    "output = 'C:/Users/cace0002/AbspectroscoPY/results/'                   # output directory\n",
    "dateheadername = 'Timestamp'                                           # header of the date  \n",
    "header = 0                                                             # header row number\n",
    "sample_name = 'sw'                                                     # name of the sample\n",
    "\n",
    "nsamples_per_hour = 30                                                 # number of samples per hour\n",
    "tshift = '0 hours 28 min'                                              # time shift required if there is any time difference between the sensor and the clock not due to when the Daylight Saving Time ends\n",
    "tshift2 = '12 hours 00 min'                                            # time shift required to compare the data from different sensors"
   ]
  },
  {
   "cell_type": "markdown",
   "metadata": {},
   "source": [
    "### Start environment and import data"
   ]
  },
  {
   "cell_type": "code",
   "execution_count": null,
   "metadata": {},
   "outputs": [],
   "source": [
    "import abspectroscopy_functions as abspy # Functions from the AbspectroscoPY toolbox\n",
    "import tkinter as tk\n",
    "from tkinter import messagebox\n",
    "import pandas as pd\n",
    "import matplotlib.pyplot as plt\n",
    "import matplotlib.dates as mdates\n",
    "from matplotlib.ticker import (MultipleLocator, FormatStrFormatter, AutoMinorLocator)\n",
    "\n",
    "df = pd.read_csv(input_dir, sep = sep, header = header, index_col = 0) \n",
    "df.index = pd.to_datetime(df.index)      # make sure time column (here index) is using time format\n",
    "df_dst = df.copy()\n",
    "df_dst"
   ]
  },
  {
   "cell_type": "markdown",
   "metadata": {},
   "source": [
    "### Shift the dataset in time one hour forward when the Daylight Saving Time ends (from the second duplicate in date_time) until the Daylight Saving Time starts (sensor time delta of 63 minutes)"
   ]
  },
  {
   "cell_type": "code",
   "execution_count": null,
   "metadata": {},
   "outputs": [],
   "source": [
    "def tshift_dst(df_in, \n",
    "               dateheadername,\n",
    "               nsamples_per_hour):\n",
    "    '''\n",
    "    function to shift the dataset in time one hour forward when the Daylight Saving Time ends    \n",
    "    :argument df_in: dataframe in input\n",
    "    :argument dateheadername: name of the date column\n",
    "    :argument nsamples_per_hour: number of samples per hour\n",
    "    :return: the dataframe shifted according to Daylight saving time\n",
    "    \n",
    "    \n",
    "    '''\n",
    "    df_in = df_in.reset_index()\n",
    "    df_for_shift = df_in.copy()    \n",
    "    df_for_shift['Time between samples'] = (df_for_shift[dateheadername] -                 # compute the time between samples\n",
    "                                           df_for_shift[dateheadername].shift(1)).astype('timedelta64[m]')\n",
    "    dst = df_for_shift[df_for_shift.duplicated(subset=[dateheadername], keep=False)].index #get duplicates by headername\n",
    "\n",
    "    # Identify where to start shifting (i.e. index of the row where the first duplicate appears):\n",
    "    n = 2*nsamples_per_hour\n",
    "    dst_chunks = [dst[i * n:(i + 1) * n] for i in range((len(dst) + n - 1) // n )]         # divide the duplicates by headername in chunks\n",
    "    shift_start = []\n",
    "    for i,chunk in enumerate(dst_chunks):\n",
    "        idxs = list(sorted(chunk))\n",
    "        shift_start.append(idxs[nsamples_per_hour])\n",
    "\n",
    "    # Identify where to end shifting (i.e. the time delta is over an hour):\n",
    "    df_end = df_for_shift.index[df_for_shift['Time between samples'] == 63]\n",
    "    # To check where the time gap is different from 3 min or bigger than 63:\n",
    "    #df_for_shift.loc[df_for_shift['Time between samples'] != 3]\n",
    "    #df_for_shift.loc[df_for_shift['Time between samples'] > 63]                            # gaps might be due to stop data acquisition for sensor cleaning\n",
    "    shift_end = []\n",
    "    for i in df_end:\n",
    "        shift_end.append(i-1)\n",
    "\n",
    "    # Shift:\n",
    "    if shift_end[0] < shift_start[0]:                                                       # there is a jump first -> shift everything before\n",
    "        shift_start.append(0)                                                               # else there is a duplicate first -> everything is good\n",
    "    if shift_end[-1] < shift_start[-1]:                                                     # the last anomaly is a duplicate -> shift all the way to the end \n",
    "        shift_end.append(df_for_shift.index[-1])                                            # the last anomaly is a jump -> everything is good   \n",
    "    timeshift = pd.Timedelta('1 hours') \n",
    "    df_out = df_for_shift.copy()\n",
    "    for i,(start,end) in enumerate(zip(shift_start,shift_end)):\n",
    "        print('Step',i+1,'\\n\\tstart:',start,'\\n\\tend:  ',end)\n",
    "        print('Shift interval:  ',df_out.loc[start,dateheadername],'to',df_out.loc[end,dateheadername])  # choose only those rows where the index is in the range       \n",
    "        shiftslice = (df_out[dateheadername].index >= start) & (df_out[dateheadername].index <= end)\n",
    "        df_out.loc[shiftslice, dateheadername] = df_out.loc[shiftslice,dateheadername] + timeshift\n",
    "        print('Shifting',sum(shiftslice),'rows')\n",
    "    df_out.reset_index(inplace=True,drop=True)                                              # reset the index to get a continuous index\n",
    "    df_out.set_index([dateheadername], inplace=True, drop=False)                            # set the date as index\n",
    "    df_out.sort_index(axis = 0, inplace=True)                                               # sort by increasing index\n",
    "    df_out = df_out.drop([dateheadername], axis=1)                                          # drop the column that now is also in index\n",
    "    return(df_out) "
   ]
  },
  {
   "cell_type": "code",
   "execution_count": null,
   "metadata": {},
   "outputs": [],
   "source": [
    "root = tk.Tk()\n",
    "root.withdraw()\n",
    "root.attributes(\"-topmost\", True)\n",
    "\n",
    "MsgBox = tk.messagebox.showwarning ('Warning','Do the data need to be time-shifted by Daylight Saving Time? Input yes or no in the following cell.', icon = 'warning')\n",
    "root.destroy()"
   ]
  },
  {
   "cell_type": "code",
   "execution_count": null,
   "metadata": {},
   "outputs": [],
   "source": [
    "#In this case the data were already continuous, so we cannot and we do not need to apply the following function."
   ]
  },
  {
   "cell_type": "code",
   "execution_count": null,
   "metadata": {},
   "outputs": [],
   "source": [
    "answer = input()\n",
    "if answer == 'yes':\n",
    "    df_dst = tshift_dst(df, dateheadername, nsamples_per_hour)\n",
    "    df_dst.to_csv(output + 'df_dst.csv', sep = sep, decimal = decimal, index = True) # export the dst time shifted dataset  \n",
    "    df_shifted = df_dst.copy()    \n",
    "elif answer == 'no':\n",
    "    df_shifted = df_dst.copy()\n",
    "else:\n",
    "    root = tk.Tk()\n",
    "    root.withdraw()\n",
    "    root.attributes(\"-topmost\", True)\n",
    "\n",
    "    MsgBox = tk.messagebox.showerror ('Error','You are not providing one of the two possible answers. Please input \"yes\" or \"no\".',icon = 'error')\n",
    "    root.destroy()    "
   ]
  },
  {
   "cell_type": "code",
   "execution_count": null,
   "metadata": {},
   "outputs": [],
   "source": [
    "df_shifted.sort_index(axis = 0, inplace=True)                    # sort by increasing index\n",
    "#df"
   ]
  },
  {
   "cell_type": "markdown",
   "metadata": {},
   "source": [
    "### Shift the dataset in time, if there is any time difference between the sensor and the clock not due to when the Daylight Saving Time ends"
   ]
  },
  {
   "cell_type": "code",
   "execution_count": null,
   "metadata": {},
   "outputs": [],
   "source": [
    "timeshift = pd.Timedelta(tshift)\n",
    "df_shifted.index = df_shifted.index + timeshift\n",
    "df_shifted"
   ]
  },
  {
   "cell_type": "markdown",
   "metadata": {},
   "source": [
    "### To be able to compare the sensors data of the surface water to the ones inside the plant shift the time one hour forward and account for the time the surface water needs to reach the treatment step (e.g. 11 hours)"
   ]
  },
  {
   "cell_type": "code",
   "execution_count": null,
   "metadata": {},
   "outputs": [],
   "source": [
    "timeshift2 = pd.Timedelta(tshift2)\n",
    "df_shifted.index = df_shifted.index + timeshift2\n",
    "df_shifted.to_csv(output + 'df_shifted_' + str(sample_name) + '.csv', sep = sep, decimal = decimal, index = True) # export the time shifted dataset \n",
    "df_shifted"
   ]
  }
 ],
 "metadata": {
  "kernelspec": {
   "display_name": "Python 3",
   "language": "python",
   "name": "python3"
  },
  "language_info": {
   "codemirror_mode": {
    "name": "ipython",
    "version": 3
   },
   "file_extension": ".py",
   "mimetype": "text/x-python",
   "name": "python",
   "nbconvert_exporter": "python",
   "pygments_lexer": "ipython3",
   "version": "3.7.4"
  }
 },
 "nbformat": 4,
 "nbformat_minor": 4
}
